{
 "cells": [
  {
   "cell_type": "markdown",
   "metadata": {},
   "source": [
    "# Supplier Performance Analysis: Predicting On-Time Delivery from SAP ERP Data\n",
    "\n",
    "This project analyzes SAP ERP procurement data to predict whether a supplier delivers purchase orders on time.  \n",
    "We focus on data cleaning, exploration, and advanced analytics, aiming to build a predictive model for delivery performance.\n",
    "\n",
    "**Author:** Yury Besiakov\n",
    "**Dataset:** Kaggle [SAP BigQuery Dataset](https://www.kaggle.com/datasets/mustafakeser4/sap-dataset-bigquery-dataset/data)\n",
    "\n",
    "**Business goal** : Cut expedite cost by predicting late POs  \n",
    "**Target** : `on_time_flag` (1 = posting date ≤ promised date + 14)  \n",
    "**Baseline** : majority class accuracy = *to be filled*  \n",
    "**Metric** : F1‑score (class imbalance)  "
   ]
  },
  {
   "cell_type": "code",
   "execution_count": 1,
   "metadata": {
    "execution": {
     "iopub.execute_input": "2025-07-15T13:29:36.544520Z",
     "iopub.status.busy": "2025-07-15T13:29:36.544158Z",
     "iopub.status.idle": "2025-07-15T13:29:39.781098Z",
     "shell.execute_reply": "2025-07-15T13:29:39.779988Z",
     "shell.execute_reply.started": "2025-07-15T13:29:36.544494Z"
    },
    "trusted": true
   },
   "outputs": [],
   "source": [
    "# 📦 Import Required Libraries\n",
    "import pandas as pd\n",
    "import numpy as np\n",
    "import matplotlib.pyplot as plt\n",
    "import seaborn as sns\n",
    "import plotly.express as px\n",
    "from datetime import datetime\n",
    "from sklearn.decomposition import PCA\n",
    "from sklearn.preprocessing import StandardScaler, LabelEncoder\n",
    "from sklearn.model_selection import train_test_split\n",
    "from sklearn.neighbors import KNeighborsClassifier\n",
    "from sklearn.ensemble import RandomForestClassifier\n",
    "from sklearn.linear_model import LogisticRegression\n",
    "from sklearn.metrics import classification_report, confusion_matrix, accuracy_score,f1_score\n",
    "\n",
    "# Set plotting style for consistency\n",
    "sns.set(style=\"whitegrid\", palette=\"Set2\")\n"
   ]
  },
  {
   "cell_type": "markdown",
   "metadata": {},
   "source": [
    "# Data loading and cleaning\n",
    "I’ll start with data cleaning and initial exploration on:\n",
    "- Purchase order items (`ekpo`)\n",
    "- Purchase order history (`ekbe`)\n",
    "- Vendor master data (`lfa1`)\n",
    "- Purchase order headers (`ekko`)\n"
   ]
  },
  {
   "cell_type": "code",
   "execution_count": 2,
   "metadata": {
    "collapsed": true,
    "execution": {
     "iopub.execute_input": "2025-07-15T13:29:39.783332Z",
     "iopub.status.busy": "2025-07-15T13:29:39.782804Z",
     "iopub.status.idle": "2025-07-15T13:29:46.715577Z",
     "shell.execute_reply": "2025-07-15T13:29:46.714454Z",
     "shell.execute_reply.started": "2025-07-15T13:29:39.783304Z"
    },
    "jupyter": {
     "outputs_hidden": true
    },
    "trusted": true
   },
   "outputs": [
    {
     "name": "stderr",
     "output_type": "stream",
     "text": [
      "/tmp/ipykernel_36/3356195582.py:4: DtypeWarning: Columns (3,4,7,8,50,51,58,85,101,115,163,166) have mixed types. Specify dtype option on import or set low_memory=False.\n",
      "  ekpo = pd.read_csv('/kaggle/input/sap-dataset-bigquery-dataset/ekpo.csv')\n",
      "/tmp/ipykernel_36/3356195582.py:5: DtypeWarning: Columns (21,22,32,37,39,40) have mixed types. Specify dtype option on import or set low_memory=False.\n",
      "  ekbe = pd.read_csv('/kaggle/input/sap-dataset-bigquery-dataset/ekbe.csv')\n",
      "/tmp/ipykernel_36/3356195582.py:7: DtypeWarning: Columns (5,6,12,38,46,47,53,67,95) have mixed types. Specify dtype option on import or set low_memory=False.\n",
      "  ekko = pd.read_csv('/kaggle/input/sap-dataset-bigquery-dataset/ekko.csv')\n"
     ]
    }
   ],
   "source": [
    "# Load CSV files\n",
    "dtype_opts = {\"dtype\": str, \"low_memory\": False}\n",
    "\n",
    "ekpo = pd.read_csv('/kaggle/input/sap-dataset-bigquery-dataset/ekpo.csv')\n",
    "ekbe = pd.read_csv('/kaggle/input/sap-dataset-bigquery-dataset/ekbe.csv')\n",
    "lfa1 = pd.read_csv('/kaggle/input/sap-dataset-bigquery-dataset/lfa1.csv')\n",
    "ekko = pd.read_csv('/kaggle/input/sap-dataset-bigquery-dataset/ekko.csv')\n"
   ]
  },
  {
   "cell_type": "markdown",
   "metadata": {},
   "source": [
    "## Quick Data Inspection\n",
    "Check basic info, missing values, and head of each DataFrame.\n"
   ]
  },
  {
   "cell_type": "code",
   "execution_count": 3,
   "metadata": {
    "execution": {
     "iopub.execute_input": "2025-07-15T13:29:46.716935Z",
     "iopub.status.busy": "2025-07-15T13:29:46.716613Z",
     "iopub.status.idle": "2025-07-15T13:29:46.722590Z",
     "shell.execute_reply": "2025-07-15T13:29:46.721625Z",
     "shell.execute_reply.started": "2025-07-15T13:29:46.716899Z"
    },
    "trusted": true
   },
   "outputs": [
    {
     "name": "stdout",
     "output_type": "stream",
     "text": [
      "ekpo: 125,724 rows  |  307 cols\n",
      "ekbe: 123,997 rows  |  89 cols\n",
      "lfa1: 3,035 rows  |  145 cols\n",
      "ekko: 76,362 rows  |  143 cols\n"
     ]
    }
   ],
   "source": [
    "for name, df in zip([\"ekpo\",\"ekbe\",\"lfa1\",\"ekko\"],\n",
    "                    [ekpo, ekbe, lfa1, ekko]):\n",
    "    print(f\"{name}: {df.shape[0]:,} rows  |  {df.shape[1]} cols\")\n"
   ]
  },
  {
   "cell_type": "code",
   "execution_count": 4,
   "metadata": {
    "execution": {
     "iopub.execute_input": "2025-07-15T13:29:46.725418Z",
     "iopub.status.busy": "2025-07-15T13:29:46.725096Z",
     "iopub.status.idle": "2025-07-15T13:29:48.441751Z",
     "shell.execute_reply": "2025-07-15T13:29:48.440919Z",
     "shell.execute_reply.started": "2025-07-15T13:29:46.725386Z"
    },
    "trusted": true
   },
   "outputs": [
    {
     "name": "stdout",
     "output_type": "stream",
     "text": [
      "--- EKPO (PO Items) ---\n",
      "Shape before cleaning: (125724, 307)\n",
      "Columns with >80% missing values before cleaning: 255\n",
      "Shape after cleaning: (125724, 52)\n",
      "Columns with >80% missing values after cleaning: 0\n"
     ]
    },
    {
     "data": {
      "text/html": [
       "<div>\n",
       "<style scoped>\n",
       "    .dataframe tbody tr th:only-of-type {\n",
       "        vertical-align: middle;\n",
       "    }\n",
       "\n",
       "    .dataframe tbody tr th {\n",
       "        vertical-align: top;\n",
       "    }\n",
       "\n",
       "    .dataframe thead th {\n",
       "        text-align: right;\n",
       "    }\n",
       "</style>\n",
       "<table border=\"1\" class=\"dataframe\">\n",
       "  <thead>\n",
       "    <tr style=\"text-align: right;\">\n",
       "      <th></th>\n",
       "      <th>mandt</th>\n",
       "      <th>ebeln</th>\n",
       "      <th>ebelp</th>\n",
       "      <th>aedat</th>\n",
       "      <th>txz01</th>\n",
       "      <th>matnr</th>\n",
       "      <th>ematn</th>\n",
       "      <th>bukrs</th>\n",
       "      <th>werks</th>\n",
       "      <th>lgort</th>\n",
       "      <th>...</th>\n",
       "      <th>inco2</th>\n",
       "      <th>drunr</th>\n",
       "      <th>mtart</th>\n",
       "      <th>bonba</th>\n",
       "      <th>tzonrc</th>\n",
       "      <th>creationdate</th>\n",
       "      <th>creationtime</th>\n",
       "      <th>operation_flag</th>\n",
       "      <th>is_deleted</th>\n",
       "      <th>recordstamp</th>\n",
       "    </tr>\n",
       "  </thead>\n",
       "  <tbody>\n",
       "    <tr>\n",
       "      <th>0</th>\n",
       "      <td>250</td>\n",
       "      <td>4500000000</td>\n",
       "      <td>10</td>\n",
       "      <td>2022-01-17</td>\n",
       "      <td>Test Dry Good</td>\n",
       "      <td>TEST CPG1</td>\n",
       "      <td>TEST CPG1</td>\n",
       "      <td>USA1</td>\n",
       "      <td>1000</td>\n",
       "      <td>NaN</td>\n",
       "      <td>...</td>\n",
       "      <td>NaN</td>\n",
       "      <td>1</td>\n",
       "      <td>FERT</td>\n",
       "      <td>100.0</td>\n",
       "      <td>EST</td>\n",
       "      <td>2022-01-14</td>\n",
       "      <td>10:41:27</td>\n",
       "      <td>L</td>\n",
       "      <td>False</td>\n",
       "      <td>2022-01-31 20:42:02.329876+00:00</td>\n",
       "    </tr>\n",
       "    <tr>\n",
       "      <th>1</th>\n",
       "      <td>250</td>\n",
       "      <td>4500000002</td>\n",
       "      <td>10</td>\n",
       "      <td>2022-01-19</td>\n",
       "      <td>Test Dry Good</td>\n",
       "      <td>TEST CPG1</td>\n",
       "      <td>TEST CPG1</td>\n",
       "      <td>USA1</td>\n",
       "      <td>1000</td>\n",
       "      <td>NaN</td>\n",
       "      <td>...</td>\n",
       "      <td>NaN</td>\n",
       "      <td>1</td>\n",
       "      <td>FERT</td>\n",
       "      <td>200.0</td>\n",
       "      <td>EST</td>\n",
       "      <td>2022-01-19</td>\n",
       "      <td>15:15:51</td>\n",
       "      <td>L</td>\n",
       "      <td>False</td>\n",
       "      <td>2022-01-31 20:42:02.329876+00:00</td>\n",
       "    </tr>\n",
       "    <tr>\n",
       "      <th>2</th>\n",
       "      <td>250</td>\n",
       "      <td>4500000000</td>\n",
       "      <td>10</td>\n",
       "      <td>2022-02-22</td>\n",
       "      <td>Test Dry Good</td>\n",
       "      <td>TEST CPG1</td>\n",
       "      <td>TEST CPG1</td>\n",
       "      <td>USA1</td>\n",
       "      <td>1000</td>\n",
       "      <td>1001.0</td>\n",
       "      <td>...</td>\n",
       "      <td>NaN</td>\n",
       "      <td>1</td>\n",
       "      <td>FERT</td>\n",
       "      <td>100.0</td>\n",
       "      <td>EST</td>\n",
       "      <td>2022-01-14</td>\n",
       "      <td>10:41:27</td>\n",
       "      <td>U</td>\n",
       "      <td>False</td>\n",
       "      <td>2022-02-22 08:45:41.745178+00:00</td>\n",
       "    </tr>\n",
       "    <tr>\n",
       "      <th>3</th>\n",
       "      <td>250</td>\n",
       "      <td>4500000000</td>\n",
       "      <td>10</td>\n",
       "      <td>2022-02-25</td>\n",
       "      <td>Test Dry Good</td>\n",
       "      <td>TEST CPG1</td>\n",
       "      <td>TEST CPG1</td>\n",
       "      <td>USA1</td>\n",
       "      <td>1000</td>\n",
       "      <td>1001.0</td>\n",
       "      <td>...</td>\n",
       "      <td>NaN</td>\n",
       "      <td>1</td>\n",
       "      <td>FERT</td>\n",
       "      <td>100.0</td>\n",
       "      <td>EST</td>\n",
       "      <td>2022-01-14</td>\n",
       "      <td>10:41:27</td>\n",
       "      <td>U</td>\n",
       "      <td>False</td>\n",
       "      <td>2022-02-25 11:09:10.788204+00:00</td>\n",
       "    </tr>\n",
       "    <tr>\n",
       "      <th>4</th>\n",
       "      <td>250</td>\n",
       "      <td>4500000002</td>\n",
       "      <td>10</td>\n",
       "      <td>2022-02-25</td>\n",
       "      <td>Test Dry Good</td>\n",
       "      <td>TEST CPG1</td>\n",
       "      <td>TEST CPG1</td>\n",
       "      <td>USA1</td>\n",
       "      <td>1000</td>\n",
       "      <td>NaN</td>\n",
       "      <td>...</td>\n",
       "      <td>NaN</td>\n",
       "      <td>1</td>\n",
       "      <td>FERT</td>\n",
       "      <td>200.0</td>\n",
       "      <td>EST</td>\n",
       "      <td>2022-01-19</td>\n",
       "      <td>15:15:51</td>\n",
       "      <td>U</td>\n",
       "      <td>False</td>\n",
       "      <td>2022-02-25 11:09:10.788204+00:00</td>\n",
       "    </tr>\n",
       "  </tbody>\n",
       "</table>\n",
       "<p>5 rows × 52 columns</p>\n",
       "</div>"
      ],
      "text/plain": [
       "   mandt       ebeln  ebelp       aedat          txz01      matnr      ematn  \\\n",
       "0    250  4500000000     10  2022-01-17  Test Dry Good  TEST CPG1  TEST CPG1   \n",
       "1    250  4500000002     10  2022-01-19  Test Dry Good  TEST CPG1  TEST CPG1   \n",
       "2    250  4500000000     10  2022-02-22  Test Dry Good  TEST CPG1  TEST CPG1   \n",
       "3    250  4500000000     10  2022-02-25  Test Dry Good  TEST CPG1  TEST CPG1   \n",
       "4    250  4500000002     10  2022-02-25  Test Dry Good  TEST CPG1  TEST CPG1   \n",
       "\n",
       "  bukrs  werks   lgort  ... inco2  drunr  mtart  bonba tzonrc  creationdate  \\\n",
       "0  USA1   1000     NaN  ...   NaN      1   FERT  100.0    EST    2022-01-14   \n",
       "1  USA1   1000     NaN  ...   NaN      1   FERT  200.0    EST    2022-01-19   \n",
       "2  USA1   1000  1001.0  ...   NaN      1   FERT  100.0    EST    2022-01-14   \n",
       "3  USA1   1000  1001.0  ...   NaN      1   FERT  100.0    EST    2022-01-14   \n",
       "4  USA1   1000     NaN  ...   NaN      1   FERT  200.0    EST    2022-01-19   \n",
       "\n",
       "   creationtime  operation_flag  is_deleted                       recordstamp  \n",
       "0      10:41:27               L       False  2022-01-31 20:42:02.329876+00:00  \n",
       "1      15:15:51               L       False  2022-01-31 20:42:02.329876+00:00  \n",
       "2      10:41:27               U       False  2022-02-22 08:45:41.745178+00:00  \n",
       "3      10:41:27               U       False  2022-02-25 11:09:10.788204+00:00  \n",
       "4      15:15:51               U       False  2022-02-25 11:09:10.788204+00:00  \n",
       "\n",
       "[5 rows x 52 columns]"
      ]
     },
     "metadata": {},
     "output_type": "display_data"
    },
    {
     "name": "stdout",
     "output_type": "stream",
     "text": [
      "\n",
      "\n",
      "--- EKBE (PO History) ---\n",
      "Shape before cleaning: (123997, 89)\n",
      "Columns with >80% missing values before cleaning: 45\n",
      "Shape after cleaning: (123997, 44)\n",
      "Columns with >80% missing values after cleaning: 0\n"
     ]
    },
    {
     "data": {
      "text/html": [
       "<div>\n",
       "<style scoped>\n",
       "    .dataframe tbody tr th:only-of-type {\n",
       "        vertical-align: middle;\n",
       "    }\n",
       "\n",
       "    .dataframe tbody tr th {\n",
       "        vertical-align: top;\n",
       "    }\n",
       "\n",
       "    .dataframe thead th {\n",
       "        text-align: right;\n",
       "    }\n",
       "</style>\n",
       "<table border=\"1\" class=\"dataframe\">\n",
       "  <thead>\n",
       "    <tr style=\"text-align: right;\">\n",
       "      <th></th>\n",
       "      <th>mandt</th>\n",
       "      <th>ebeln</th>\n",
       "      <th>ebelp</th>\n",
       "      <th>vgabe</th>\n",
       "      <th>gjahr</th>\n",
       "      <th>belnr</th>\n",
       "      <th>buzei</th>\n",
       "      <th>bewtp</th>\n",
       "      <th>bwart</th>\n",
       "      <th>budat</th>\n",
       "      <th>...</th>\n",
       "      <th>ernam</th>\n",
       "      <th>arewb</th>\n",
       "      <th>rewrb</th>\n",
       "      <th>saprl</th>\n",
       "      <th>arewr_pop</th>\n",
       "      <th>vbeln_st</th>\n",
       "      <th>vbelp_st</th>\n",
       "      <th>operation_flag</th>\n",
       "      <th>is_deleted</th>\n",
       "      <th>recordstamp</th>\n",
       "    </tr>\n",
       "  </thead>\n",
       "  <tbody>\n",
       "    <tr>\n",
       "      <th>0</th>\n",
       "      <td>250</td>\n",
       "      <td>4500000006</td>\n",
       "      <td>10</td>\n",
       "      <td>8</td>\n",
       "      <td>NaN</td>\n",
       "      <td>80000014</td>\n",
       "      <td>10</td>\n",
       "      <td>L</td>\n",
       "      <td>NaN</td>\n",
       "      <td>2022-01-21</td>\n",
       "      <td>...</td>\n",
       "      <td>NaN</td>\n",
       "      <td>NaN</td>\n",
       "      <td>NaN</td>\n",
       "      <td>NaN</td>\n",
       "      <td>NaN</td>\n",
       "      <td>NaN</td>\n",
       "      <td>NaN</td>\n",
       "      <td>L</td>\n",
       "      <td>False</td>\n",
       "      <td>2022-01-31 20:41:57.486125+00:00</td>\n",
       "    </tr>\n",
       "    <tr>\n",
       "      <th>1</th>\n",
       "      <td>250</td>\n",
       "      <td>4500000011</td>\n",
       "      <td>10</td>\n",
       "      <td>8</td>\n",
       "      <td>NaN</td>\n",
       "      <td>80000015</td>\n",
       "      <td>10</td>\n",
       "      <td>L</td>\n",
       "      <td>NaN</td>\n",
       "      <td>2022-01-24</td>\n",
       "      <td>...</td>\n",
       "      <td>NaN</td>\n",
       "      <td>NaN</td>\n",
       "      <td>NaN</td>\n",
       "      <td>NaN</td>\n",
       "      <td>NaN</td>\n",
       "      <td>NaN</td>\n",
       "      <td>NaN</td>\n",
       "      <td>L</td>\n",
       "      <td>False</td>\n",
       "      <td>2022-01-31 20:41:57.486125+00:00</td>\n",
       "    </tr>\n",
       "    <tr>\n",
       "      <th>2</th>\n",
       "      <td>250</td>\n",
       "      <td>4500000012</td>\n",
       "      <td>10</td>\n",
       "      <td>8</td>\n",
       "      <td>NaN</td>\n",
       "      <td>80000016</td>\n",
       "      <td>10</td>\n",
       "      <td>L</td>\n",
       "      <td>NaN</td>\n",
       "      <td>2022-01-24</td>\n",
       "      <td>...</td>\n",
       "      <td>NaN</td>\n",
       "      <td>NaN</td>\n",
       "      <td>NaN</td>\n",
       "      <td>NaN</td>\n",
       "      <td>NaN</td>\n",
       "      <td>NaN</td>\n",
       "      <td>NaN</td>\n",
       "      <td>L</td>\n",
       "      <td>False</td>\n",
       "      <td>2022-01-31 20:41:57.486125+00:00</td>\n",
       "    </tr>\n",
       "    <tr>\n",
       "      <th>3</th>\n",
       "      <td>250</td>\n",
       "      <td>4500000013</td>\n",
       "      <td>10</td>\n",
       "      <td>8</td>\n",
       "      <td>NaN</td>\n",
       "      <td>80000017</td>\n",
       "      <td>10</td>\n",
       "      <td>L</td>\n",
       "      <td>NaN</td>\n",
       "      <td>2022-01-24</td>\n",
       "      <td>...</td>\n",
       "      <td>NaN</td>\n",
       "      <td>NaN</td>\n",
       "      <td>NaN</td>\n",
       "      <td>NaN</td>\n",
       "      <td>NaN</td>\n",
       "      <td>NaN</td>\n",
       "      <td>NaN</td>\n",
       "      <td>L</td>\n",
       "      <td>False</td>\n",
       "      <td>2022-01-31 20:41:57.486125+00:00</td>\n",
       "    </tr>\n",
       "    <tr>\n",
       "      <th>4</th>\n",
       "      <td>250</td>\n",
       "      <td>4500000014</td>\n",
       "      <td>10</td>\n",
       "      <td>8</td>\n",
       "      <td>NaN</td>\n",
       "      <td>80000018</td>\n",
       "      <td>10</td>\n",
       "      <td>L</td>\n",
       "      <td>NaN</td>\n",
       "      <td>2022-01-24</td>\n",
       "      <td>...</td>\n",
       "      <td>NaN</td>\n",
       "      <td>NaN</td>\n",
       "      <td>NaN</td>\n",
       "      <td>NaN</td>\n",
       "      <td>NaN</td>\n",
       "      <td>NaN</td>\n",
       "      <td>NaN</td>\n",
       "      <td>L</td>\n",
       "      <td>False</td>\n",
       "      <td>2022-01-31 20:41:57.486125+00:00</td>\n",
       "    </tr>\n",
       "  </tbody>\n",
       "</table>\n",
       "<p>5 rows × 44 columns</p>\n",
       "</div>"
      ],
      "text/plain": [
       "   mandt       ebeln  ebelp  vgabe  gjahr     belnr  buzei bewtp  bwart  \\\n",
       "0    250  4500000006     10      8    NaN  80000014     10     L    NaN   \n",
       "1    250  4500000011     10      8    NaN  80000015     10     L    NaN   \n",
       "2    250  4500000012     10      8    NaN  80000016     10     L    NaN   \n",
       "3    250  4500000013     10      8    NaN  80000017     10     L    NaN   \n",
       "4    250  4500000014     10      8    NaN  80000018     10     L    NaN   \n",
       "\n",
       "        budat  ...  ernam  arewb  rewrb  saprl arewr_pop  vbeln_st vbelp_st  \\\n",
       "0  2022-01-21  ...    NaN    NaN    NaN    NaN       NaN       NaN      NaN   \n",
       "1  2022-01-24  ...    NaN    NaN    NaN    NaN       NaN       NaN      NaN   \n",
       "2  2022-01-24  ...    NaN    NaN    NaN    NaN       NaN       NaN      NaN   \n",
       "3  2022-01-24  ...    NaN    NaN    NaN    NaN       NaN       NaN      NaN   \n",
       "4  2022-01-24  ...    NaN    NaN    NaN    NaN       NaN       NaN      NaN   \n",
       "\n",
       "  operation_flag  is_deleted                       recordstamp  \n",
       "0              L       False  2022-01-31 20:41:57.486125+00:00  \n",
       "1              L       False  2022-01-31 20:41:57.486125+00:00  \n",
       "2              L       False  2022-01-31 20:41:57.486125+00:00  \n",
       "3              L       False  2022-01-31 20:41:57.486125+00:00  \n",
       "4              L       False  2022-01-31 20:41:57.486125+00:00  \n",
       "\n",
       "[5 rows x 44 columns]"
      ]
     },
     "metadata": {},
     "output_type": "display_data"
    },
    {
     "name": "stdout",
     "output_type": "stream",
     "text": [
      "\n",
      "\n",
      "--- LFA1 (Vendor Master) ---\n",
      "Shape before cleaning: (3035, 145)\n",
      "Columns with >80% missing values before cleaning: 112\n",
      "Shape after cleaning: (3035, 33)\n",
      "Columns with >80% missing values after cleaning: 0\n"
     ]
    },
    {
     "data": {
      "text/html": [
       "<div>\n",
       "<style scoped>\n",
       "    .dataframe tbody tr th:only-of-type {\n",
       "        vertical-align: middle;\n",
       "    }\n",
       "\n",
       "    .dataframe tbody tr th {\n",
       "        vertical-align: top;\n",
       "    }\n",
       "\n",
       "    .dataframe thead th {\n",
       "        text-align: right;\n",
       "    }\n",
       "</style>\n",
       "<table border=\"1\" class=\"dataframe\">\n",
       "  <thead>\n",
       "    <tr style=\"text-align: right;\">\n",
       "      <th></th>\n",
       "      <th>mandt</th>\n",
       "      <th>lifnr</th>\n",
       "      <th>land1</th>\n",
       "      <th>name1</th>\n",
       "      <th>ort01</th>\n",
       "      <th>ort02</th>\n",
       "      <th>pstlz</th>\n",
       "      <th>regio</th>\n",
       "      <th>sortl</th>\n",
       "      <th>stras</th>\n",
       "      <th>...</th>\n",
       "      <th>ltsna</th>\n",
       "      <th>werkr</th>\n",
       "      <th>duefl</th>\n",
       "      <th>txjcd</th>\n",
       "      <th>taxbs</th>\n",
       "      <th>ric</th>\n",
       "      <th>legalnat</th>\n",
       "      <th>operation_flag</th>\n",
       "      <th>is_deleted</th>\n",
       "      <th>recordstamp</th>\n",
       "    </tr>\n",
       "  </thead>\n",
       "  <tbody>\n",
       "    <tr>\n",
       "      <th>0</th>\n",
       "      <td>800</td>\n",
       "      <td>0000001111</td>\n",
       "      <td>US</td>\n",
       "      <td>Suppliers Inc.</td>\n",
       "      <td>NILES</td>\n",
       "      <td>COOK</td>\n",
       "      <td>60714</td>\n",
       "      <td>NaN</td>\n",
       "      <td>AUTO/PUMPE</td>\n",
       "      <td>12 Western Avenue</td>\n",
       "      <td>...</td>\n",
       "      <td>NaN</td>\n",
       "      <td>NaN</td>\n",
       "      <td>X</td>\n",
       "      <td>1403120601</td>\n",
       "      <td>0.0</td>\n",
       "      <td>0.0</td>\n",
       "      <td>0.0</td>\n",
       "      <td>I</td>\n",
       "      <td>False</td>\n",
       "      <td>2021-03-31 02:47:30.036270+00:00</td>\n",
       "    </tr>\n",
       "    <tr>\n",
       "      <th>1</th>\n",
       "      <td>800</td>\n",
       "      <td>0000003920</td>\n",
       "      <td>US</td>\n",
       "      <td>Pyramid Systems</td>\n",
       "      <td>SANTA CLARA</td>\n",
       "      <td>SANTA CLARA</td>\n",
       "      <td>95050</td>\n",
       "      <td>CA</td>\n",
       "      <td>PYRAMID SY</td>\n",
       "      <td>3912 N. First Av.</td>\n",
       "      <td>...</td>\n",
       "      <td>NaN</td>\n",
       "      <td>NaN</td>\n",
       "      <td>X</td>\n",
       "      <td>0508531801</td>\n",
       "      <td>0.0</td>\n",
       "      <td>0.0</td>\n",
       "      <td>0.0</td>\n",
       "      <td>I</td>\n",
       "      <td>False</td>\n",
       "      <td>2021-03-31 02:47:30.036270+00:00</td>\n",
       "    </tr>\n",
       "    <tr>\n",
       "      <th>2</th>\n",
       "      <td>800</td>\n",
       "      <td>0000003411</td>\n",
       "      <td>US</td>\n",
       "      <td>Delta Steel Inc.</td>\n",
       "      <td>HOUSTON</td>\n",
       "      <td>MATANUSKA-SUSITNA BO</td>\n",
       "      <td>99694</td>\n",
       "      <td>AK</td>\n",
       "      <td>STEEL</td>\n",
       "      <td>Baker Str.</td>\n",
       "      <td>...</td>\n",
       "      <td>NaN</td>\n",
       "      <td>NaN</td>\n",
       "      <td>X</td>\n",
       "      <td>0217008451</td>\n",
       "      <td>0.0</td>\n",
       "      <td>0.0</td>\n",
       "      <td>0.0</td>\n",
       "      <td>I</td>\n",
       "      <td>False</td>\n",
       "      <td>2021-03-31 02:47:30.036270+00:00</td>\n",
       "    </tr>\n",
       "    <tr>\n",
       "      <th>3</th>\n",
       "      <td>800</td>\n",
       "      <td>0000003020</td>\n",
       "      <td>US</td>\n",
       "      <td>World Wide Computer Warehouse</td>\n",
       "      <td>SAN JOSE</td>\n",
       "      <td>SANTA CLARA</td>\n",
       "      <td>95120</td>\n",
       "      <td>CA</td>\n",
       "      <td>SOFT</td>\n",
       "      <td>101 North Industrial Drive</td>\n",
       "      <td>...</td>\n",
       "      <td>NaN</td>\n",
       "      <td>NaN</td>\n",
       "      <td>X</td>\n",
       "      <td>0508530701</td>\n",
       "      <td>0.0</td>\n",
       "      <td>0.0</td>\n",
       "      <td>0.0</td>\n",
       "      <td>I</td>\n",
       "      <td>False</td>\n",
       "      <td>2021-03-31 02:47:30.036270+00:00</td>\n",
       "    </tr>\n",
       "    <tr>\n",
       "      <th>4</th>\n",
       "      <td>800</td>\n",
       "      <td>AVPL</td>\n",
       "      <td>US</td>\n",
       "      <td>American Vice President Line</td>\n",
       "      <td>Oakland</td>\n",
       "      <td>ALAMEDA</td>\n",
       "      <td>94607</td>\n",
       "      <td>CA</td>\n",
       "      <td>APL</td>\n",
       "      <td>1234 Water Street</td>\n",
       "      <td>...</td>\n",
       "      <td>NaN</td>\n",
       "      <td>NaN</td>\n",
       "      <td>X</td>\n",
       "      <td>0500123501</td>\n",
       "      <td>0.0</td>\n",
       "      <td>0.0</td>\n",
       "      <td>0.0</td>\n",
       "      <td>I</td>\n",
       "      <td>False</td>\n",
       "      <td>2021-03-31 02:47:30.036270+00:00</td>\n",
       "    </tr>\n",
       "  </tbody>\n",
       "</table>\n",
       "<p>5 rows × 33 columns</p>\n",
       "</div>"
      ],
      "text/plain": [
       "   mandt       lifnr land1                          name1        ort01  \\\n",
       "0    800  0000001111    US                 Suppliers Inc.        NILES   \n",
       "1    800  0000003920    US                Pyramid Systems  SANTA CLARA   \n",
       "2    800  0000003411    US               Delta Steel Inc.      HOUSTON   \n",
       "3    800  0000003020    US  World Wide Computer Warehouse     SAN JOSE   \n",
       "4    800        AVPL    US   American Vice President Line      Oakland   \n",
       "\n",
       "                  ort02  pstlz regio       sortl                       stras  \\\n",
       "0                  COOK  60714   NaN  AUTO/PUMPE           12 Western Avenue   \n",
       "1           SANTA CLARA  95050    CA  PYRAMID SY           3912 N. First Av.   \n",
       "2  MATANUSKA-SUSITNA BO  99694    AK       STEEL                  Baker Str.   \n",
       "3           SANTA CLARA  95120    CA        SOFT  101 North Industrial Drive   \n",
       "4               ALAMEDA  94607    CA         APL           1234 Water Street   \n",
       "\n",
       "   ...  ltsna werkr duefl       txjcd  taxbs  ric legalnat  operation_flag  \\\n",
       "0  ...    NaN   NaN     X  1403120601    0.0  0.0      0.0               I   \n",
       "1  ...    NaN   NaN     X  0508531801    0.0  0.0      0.0               I   \n",
       "2  ...    NaN   NaN     X  0217008451    0.0  0.0      0.0               I   \n",
       "3  ...    NaN   NaN     X  0508530701    0.0  0.0      0.0               I   \n",
       "4  ...    NaN   NaN     X  0500123501    0.0  0.0      0.0               I   \n",
       "\n",
       "  is_deleted                       recordstamp  \n",
       "0      False  2021-03-31 02:47:30.036270+00:00  \n",
       "1      False  2021-03-31 02:47:30.036270+00:00  \n",
       "2      False  2021-03-31 02:47:30.036270+00:00  \n",
       "3      False  2021-03-31 02:47:30.036270+00:00  \n",
       "4      False  2021-03-31 02:47:30.036270+00:00  \n",
       "\n",
       "[5 rows x 33 columns]"
      ]
     },
     "metadata": {},
     "output_type": "display_data"
    },
    {
     "name": "stdout",
     "output_type": "stream",
     "text": [
      "\n",
      "\n",
      "--- EKKO (PO Headers) ---\n",
      "Shape before cleaning: (76362, 143)\n",
      "Columns with >80% missing values before cleaning: 112\n",
      "Shape after cleaning: (76362, 31)\n",
      "Columns with >80% missing values after cleaning: 0\n"
     ]
    },
    {
     "data": {
      "text/html": [
       "<div>\n",
       "<style scoped>\n",
       "    .dataframe tbody tr th:only-of-type {\n",
       "        vertical-align: middle;\n",
       "    }\n",
       "\n",
       "    .dataframe tbody tr th {\n",
       "        vertical-align: top;\n",
       "    }\n",
       "\n",
       "    .dataframe thead th {\n",
       "        text-align: right;\n",
       "    }\n",
       "</style>\n",
       "<table border=\"1\" class=\"dataframe\">\n",
       "  <thead>\n",
       "    <tr style=\"text-align: right;\">\n",
       "      <th></th>\n",
       "      <th>mandt</th>\n",
       "      <th>ebeln</th>\n",
       "      <th>bukrs</th>\n",
       "      <th>bstyp</th>\n",
       "      <th>bsart</th>\n",
       "      <th>statu</th>\n",
       "      <th>aedat</th>\n",
       "      <th>ernam</th>\n",
       "      <th>pincr</th>\n",
       "      <th>lponr</th>\n",
       "      <th>...</th>\n",
       "      <th>inco1</th>\n",
       "      <th>inco2</th>\n",
       "      <th>knumv</th>\n",
       "      <th>kalsm</th>\n",
       "      <th>stafo</th>\n",
       "      <th>upinc</th>\n",
       "      <th>lands</th>\n",
       "      <th>operation_flag</th>\n",
       "      <th>is_deleted</th>\n",
       "      <th>recordstamp</th>\n",
       "    </tr>\n",
       "  </thead>\n",
       "  <tbody>\n",
       "    <tr>\n",
       "      <th>0</th>\n",
       "      <td>250</td>\n",
       "      <td>4500001085</td>\n",
       "      <td>EU01</td>\n",
       "      <td>F</td>\n",
       "      <td>UB</td>\n",
       "      <td>9</td>\n",
       "      <td>2022-02-10</td>\n",
       "      <td>MALVIYAH</td>\n",
       "      <td>10</td>\n",
       "      <td>10</td>\n",
       "      <td>...</td>\n",
       "      <td>NaN</td>\n",
       "      <td>NaN</td>\n",
       "      <td>1.000001e+09</td>\n",
       "      <td>RM2000</td>\n",
       "      <td>SAP</td>\n",
       "      <td>1</td>\n",
       "      <td>NL</td>\n",
       "      <td>I</td>\n",
       "      <td>False</td>\n",
       "      <td>2022-02-10 07:05:37.818099+00:00</td>\n",
       "    </tr>\n",
       "    <tr>\n",
       "      <th>1</th>\n",
       "      <td>250</td>\n",
       "      <td>4500001086</td>\n",
       "      <td>EU01</td>\n",
       "      <td>F</td>\n",
       "      <td>UB</td>\n",
       "      <td>9</td>\n",
       "      <td>2022-02-10</td>\n",
       "      <td>MALVIYAH</td>\n",
       "      <td>10</td>\n",
       "      <td>10</td>\n",
       "      <td>...</td>\n",
       "      <td>NaN</td>\n",
       "      <td>NaN</td>\n",
       "      <td>1.000001e+09</td>\n",
       "      <td>RM2000</td>\n",
       "      <td>SAP</td>\n",
       "      <td>1</td>\n",
       "      <td>NL</td>\n",
       "      <td>I</td>\n",
       "      <td>False</td>\n",
       "      <td>2022-02-10 07:17:27.942806+00:00</td>\n",
       "    </tr>\n",
       "    <tr>\n",
       "      <th>2</th>\n",
       "      <td>250</td>\n",
       "      <td>4500001192</td>\n",
       "      <td>EU01</td>\n",
       "      <td>F</td>\n",
       "      <td>UB</td>\n",
       "      <td>9</td>\n",
       "      <td>2022-02-24</td>\n",
       "      <td>MALVIYAH</td>\n",
       "      <td>10</td>\n",
       "      <td>10</td>\n",
       "      <td>...</td>\n",
       "      <td>NaN</td>\n",
       "      <td>NaN</td>\n",
       "      <td>1.000001e+09</td>\n",
       "      <td>RM2000</td>\n",
       "      <td>SAP</td>\n",
       "      <td>1</td>\n",
       "      <td>NL</td>\n",
       "      <td>I</td>\n",
       "      <td>False</td>\n",
       "      <td>2022-02-24 06:53:25.370603+00:00</td>\n",
       "    </tr>\n",
       "    <tr>\n",
       "      <th>3</th>\n",
       "      <td>250</td>\n",
       "      <td>4500000024</td>\n",
       "      <td>USA1</td>\n",
       "      <td>F</td>\n",
       "      <td>UB</td>\n",
       "      <td>9</td>\n",
       "      <td>2022-01-25</td>\n",
       "      <td>MALVIYAH</td>\n",
       "      <td>10</td>\n",
       "      <td>10</td>\n",
       "      <td>...</td>\n",
       "      <td>NaN</td>\n",
       "      <td>NaN</td>\n",
       "      <td>1.000000e+09</td>\n",
       "      <td>RM2000</td>\n",
       "      <td>SAP</td>\n",
       "      <td>1</td>\n",
       "      <td>US</td>\n",
       "      <td>L</td>\n",
       "      <td>False</td>\n",
       "      <td>2022-01-31 20:42:01.546635+00:00</td>\n",
       "    </tr>\n",
       "    <tr>\n",
       "      <th>4</th>\n",
       "      <td>250</td>\n",
       "      <td>4500000030</td>\n",
       "      <td>USA1</td>\n",
       "      <td>F</td>\n",
       "      <td>UB</td>\n",
       "      <td>9</td>\n",
       "      <td>2022-01-28</td>\n",
       "      <td>MALVIYAH</td>\n",
       "      <td>10</td>\n",
       "      <td>10</td>\n",
       "      <td>...</td>\n",
       "      <td>NaN</td>\n",
       "      <td>NaN</td>\n",
       "      <td>1.000000e+09</td>\n",
       "      <td>RM2000</td>\n",
       "      <td>SAP</td>\n",
       "      <td>1</td>\n",
       "      <td>US</td>\n",
       "      <td>L</td>\n",
       "      <td>False</td>\n",
       "      <td>2022-01-31 20:42:01.546635+00:00</td>\n",
       "    </tr>\n",
       "  </tbody>\n",
       "</table>\n",
       "<p>5 rows × 31 columns</p>\n",
       "</div>"
      ],
      "text/plain": [
       "   mandt       ebeln bukrs bstyp bsart statu       aedat     ernam  pincr  \\\n",
       "0    250  4500001085  EU01     F    UB     9  2022-02-10  MALVIYAH     10   \n",
       "1    250  4500001086  EU01     F    UB     9  2022-02-10  MALVIYAH     10   \n",
       "2    250  4500001192  EU01     F    UB     9  2022-02-24  MALVIYAH     10   \n",
       "3    250  4500000024  USA1     F    UB     9  2022-01-25  MALVIYAH     10   \n",
       "4    250  4500000030  USA1     F    UB     9  2022-01-28  MALVIYAH     10   \n",
       "\n",
       "   lponr  ... inco1 inco2         knumv   kalsm  stafo  upinc lands  \\\n",
       "0     10  ...   NaN   NaN  1.000001e+09  RM2000    SAP      1    NL   \n",
       "1     10  ...   NaN   NaN  1.000001e+09  RM2000    SAP      1    NL   \n",
       "2     10  ...   NaN   NaN  1.000001e+09  RM2000    SAP      1    NL   \n",
       "3     10  ...   NaN   NaN  1.000000e+09  RM2000    SAP      1    US   \n",
       "4     10  ...   NaN   NaN  1.000000e+09  RM2000    SAP      1    US   \n",
       "\n",
       "  operation_flag is_deleted                       recordstamp  \n",
       "0              I      False  2022-02-10 07:05:37.818099+00:00  \n",
       "1              I      False  2022-02-10 07:17:27.942806+00:00  \n",
       "2              I      False  2022-02-24 06:53:25.370603+00:00  \n",
       "3              L      False  2022-01-31 20:42:01.546635+00:00  \n",
       "4              L      False  2022-01-31 20:42:01.546635+00:00  \n",
       "\n",
       "[5 rows x 31 columns]"
      ]
     },
     "metadata": {},
     "output_type": "display_data"
    },
    {
     "name": "stdout",
     "output_type": "stream",
     "text": [
      "\n",
      "\n"
     ]
    }
   ],
   "source": [
    "import warnings\n",
    "warnings.filterwarnings('ignore')\n",
    "\n",
    "# Quick inspection function\n",
    "def inspect(df, name):\n",
    "    print(f\"--- {name} ---\")\n",
    "\n",
    "    # Initial shape\n",
    "    print(\"Shape before cleaning:\", df.shape)\n",
    "    \n",
    "    # Count of columns with >80% NaNs BEFORE\n",
    "    na_80_before = (df.isna().mean() > 0.8).sum()\n",
    "    print(f\"Columns with >80% missing values before cleaning: {na_80_before}\")\n",
    "\n",
    "    # Drop columns with >80% missing\n",
    "    df = df.loc[:, df.isna().mean() <= 0.8]\n",
    "\n",
    "    # Final shape\n",
    "    print(\"Shape after cleaning:\", df.shape)\n",
    "\n",
    "    # Count of columns with >80% NaNs AFTER\n",
    "    na_80_after = (df.isna().mean() > 0.8).sum()\n",
    "    print(f\"Columns with >80% missing values after cleaning: {na_80_after}\")\n",
    "\n",
    "    display(df.head())\n",
    "    print(\"\\n\")\n",
    "    return df\n",
    "\n",
    "# Apply to datasets\n",
    "ekpo = inspect(ekpo, \"EKPO (PO Items)\")\n",
    "ekbe = inspect(ekbe, \"EKBE (PO History)\")\n",
    "lfa1 = inspect(lfa1, \"LFA1 (Vendor Master)\")\n",
    "ekko = inspect(ekko, \"EKKO (PO Headers)\")\n"
   ]
  },
  {
   "cell_type": "markdown",
   "metadata": {},
   "source": [
    "## Data Cleaning Steps\n",
    "\n",
    "- Remove duplicates  \n",
    "- Handle missing values (focus on critical columns)\n",
    "- Ensure consistent datatypes (e.g., date columns as datetime)\n",
    "- Basic filtering for realistic entries (e.g., positive quantities, valid vendor numbers)\n",
    "- Keep only records with essential keys/quantities; convert key date columns."
   ]
  },
  {
   "cell_type": "code",
   "execution_count": 5,
   "metadata": {
    "execution": {
     "iopub.execute_input": "2025-07-15T13:29:48.442898Z",
     "iopub.status.busy": "2025-07-15T13:29:48.442632Z",
     "iopub.status.idle": "2025-07-15T13:29:48.447429Z",
     "shell.execute_reply": "2025-07-15T13:29:48.446315Z",
     "shell.execute_reply.started": "2025-07-15T13:29:48.442876Z"
    },
    "trusted": true
   },
   "outputs": [],
   "source": [
    "#ekpo.columns"
   ]
  },
  {
   "cell_type": "code",
   "execution_count": 6,
   "metadata": {
    "execution": {
     "iopub.execute_input": "2025-07-15T13:29:48.448861Z",
     "iopub.status.busy": "2025-07-15T13:29:48.448536Z",
     "iopub.status.idle": "2025-07-15T13:29:49.709109Z",
     "shell.execute_reply": "2025-07-15T13:29:49.708195Z",
     "shell.execute_reply.started": "2025-07-15T13:29:48.448836Z"
    },
    "trusted": true
   },
   "outputs": [],
   "source": [
    "# Remove Duplicates\n",
    "ekpo.drop_duplicates(inplace=True)\n",
    "ekbe.drop_duplicates(inplace=True)\n",
    "lfa1.drop_duplicates(inplace=True)\n",
    "ekko.drop_duplicates(inplace=True)\n",
    "\n",
    "# Handle Missing Values (report and clean critical ones)\n",
    "critical_ekpo = ['ebeln', 'ebelp', 'matnr', 'menge']\n",
    "critical_ekbe = ['ebeln', 'ebelp', 'budat', 'menge']\n",
    "critical_lfa1 = ['lifnr']\n",
    "critical_ekko = ['ebeln', 'lifnr', 'bedat']\n",
    "\n",
    "for col in critical_ekpo:\n",
    "    ekpo = ekpo[ekpo[col].notnull()]\n",
    "\n",
    "for col in critical_ekbe:\n",
    "    ekbe = ekbe[ekbe[col].notnull()]\n",
    "\n",
    "for col in critical_lfa1:\n",
    "    lfa1 = lfa1[lfa1[col].notnull()]\n",
    "\n",
    "for col in critical_ekko:\n",
    "    ekko = ekko[ekko[col].notnull()]\n",
    "\n",
    "# Datatype Conversions\n",
    "date_columns_ekbe = ['budat', 'cpudt']\n",
    "for col in date_columns_ekbe:\n",
    "    if col in ekbe.columns:\n",
    "        ekbe[col] = pd.to_datetime(ekbe[col], errors='coerce')\n",
    "\n",
    "if 'bedat' in ekko.columns:\n",
    "    ekko['bedat'] = pd.to_datetime(ekko['bedat'], errors='coerce')\n",
    "\n",
    "# 3.4 Filter for realistic entries (example: positive quantities)\n",
    "ekpo = ekpo[ekpo['menge'] > 0]\n",
    "ekbe = ekbe[ekbe['menge'] > 0]\n"
   ]
  },
  {
   "cell_type": "markdown",
   "metadata": {},
   "source": [
    "## Consistency Checks & Merging Keys\n",
    "\n",
    "check key relationships:\n",
    "- `ebeln` (PO Number): exists in `ekpo`, `ekbe`, `ekko`\n",
    "- `ebelp` (Item Number): `ekpo` & `ekbe`\n",
    "- `lifnr` (Vendor): `ekpo`, `ekko`, `lfa1`\n"
   ]
  },
  {
   "cell_type": "code",
   "execution_count": 7,
   "metadata": {
    "execution": {
     "iopub.execute_input": "2025-07-15T13:29:49.711010Z",
     "iopub.status.busy": "2025-07-15T13:29:49.710682Z",
     "iopub.status.idle": "2025-07-15T13:29:49.762606Z",
     "shell.execute_reply": "2025-07-15T13:29:49.761713Z",
     "shell.execute_reply.started": "2025-07-15T13:29:49.710979Z"
    },
    "trusted": true
   },
   "outputs": [
    {
     "name": "stdout",
     "output_type": "stream",
     "text": [
      "POs in EKPO: 69428, in EKBE: 63222, in EKKO: 69424\n",
      "Vendors in LFA1: 2590, in EKKO: 44\n",
      "POs in EKPO not in EKKO: 4\n"
     ]
    }
   ],
   "source": [
    "# How many unique POs and Vendors?\n",
    "print(f\"POs in EKPO: {ekpo['ebeln'].nunique()}, in EKBE: {ekbe['ebeln'].nunique()}, in EKKO: {ekko['ebeln'].nunique()}\")\n",
    "\n",
    "# Vendors: Only in LFA1 and EKKO, NOT in EKPO!\n",
    "print(f\"Vendors in LFA1: {lfa1['lifnr'].nunique()}, in EKKO: {ekko['lifnr'].nunique()}\")\n",
    "\n",
    "# Do all PO numbers in EKPO exist in EKKO?\n",
    "missing_ekko = set(ekpo['ebeln']) - set(ekko['ebeln'])\n",
    "print(f\"POs in EKPO not in EKKO: {len(missing_ekko)}\")\n"
   ]
  },
  {
   "cell_type": "code",
   "execution_count": 8,
   "metadata": {
    "execution": {
     "iopub.execute_input": "2025-07-15T13:29:49.763669Z",
     "iopub.status.busy": "2025-07-15T13:29:49.763394Z",
     "iopub.status.idle": "2025-07-15T13:29:49.931111Z",
     "shell.execute_reply": "2025-07-15T13:29:49.930068Z",
     "shell.execute_reply.started": "2025-07-15T13:29:49.763647Z"
    },
    "trusted": true
   },
   "outputs": [],
   "source": [
    "# remove POs in EKPO that are not in EKKO\n",
    "ekpo = ekpo[ekpo['ebeln'].isin(ekko['ebeln'])]"
   ]
  },
  {
   "cell_type": "code",
   "execution_count": 9,
   "metadata": {
    "execution": {
     "iopub.execute_input": "2025-07-15T13:29:49.932713Z",
     "iopub.status.busy": "2025-07-15T13:29:49.932370Z",
     "iopub.status.idle": "2025-07-15T13:29:49.937005Z",
     "shell.execute_reply": "2025-07-15T13:29:49.936069Z",
     "shell.execute_reply.started": "2025-07-15T13:29:49.932680Z"
    },
    "trusted": true
   },
   "outputs": [],
   "source": [
    "#for df in [ekpo,ekbe,ekko]:\n",
    "    #print(df.columns)"
   ]
  },
  {
   "cell_type": "code",
   "execution_count": 10,
   "metadata": {
    "execution": {
     "iopub.execute_input": "2025-07-15T13:29:49.940989Z",
     "iopub.status.busy": "2025-07-15T13:29:49.940656Z",
     "iopub.status.idle": "2025-07-15T13:29:50.009024Z",
     "shell.execute_reply": "2025-07-15T13:29:50.007871Z",
     "shell.execute_reply.started": "2025-07-15T13:29:49.940956Z"
    },
    "trusted": true
   },
   "outputs": [
    {
     "name": "stdout",
     "output_type": "stream",
     "text": [
      "\n",
      "Missing values in EKPO:\n",
      "netpr           15\n",
      "netwr           15\n",
      "brtwr           15\n",
      "effwr           15\n",
      "prdat            8\n",
      "menge            0\n",
      "aedat            0\n",
      "creationdate     0\n",
      "dtype: int64\n",
      "\n",
      "Missing values in EKBE:\n",
      "arewr    63330\n",
      "reewr    63259\n",
      "refwr    63259\n",
      "bamng    60755\n",
      "bpmng       46\n",
      "dmbtr       40\n",
      "wrbtr       40\n",
      "bldat       17\n",
      "menge        0\n",
      "budat        0\n",
      "cpudt        0\n",
      "dtype: int64\n",
      "\n",
      "Missing values in EKKO:\n",
      "aedat    0\n",
      "bedat    0\n",
      "dtype: int64\n"
     ]
    }
   ],
   "source": [
    "# List key columns by df\n",
    "ekpo_key_cols = ['menge', 'netpr', 'netwr', 'brtwr', 'effwr', 'aedat', 'prdat', 'creationdate']\n",
    "ekbe_key_cols = ['menge', 'bpmng', 'lsmng', 'bamng', 'dmbtr', 'wrbtr', 'reewr', 'refwr', 'arewr', 'budat', 'cpudt', 'bldat']\n",
    "ekko_key_cols = ['aedat', 'bedat']\n",
    "\n",
    "# Function to report NA counts\n",
    "def report_na(df, cols, dfname):\n",
    "    print(f\"\\nMissing values in {dfname}:\")\n",
    "    print(df[cols].isnull().sum().sort_values(ascending=False))\n",
    "    \n",
    "report_na(ekpo, [col for col in ekpo_key_cols if col in ekpo.columns], 'EKPO')\n",
    "report_na(ekbe, [col for col in ekbe_key_cols if col in ekbe.columns], 'EKBE')\n",
    "report_na(ekko, [col for col in ekko_key_cols if col in ekko.columns], 'EKKO')\n"
   ]
  },
  {
   "cell_type": "markdown",
   "metadata": {},
   "source": [
    "## 🧹 Data Cleaning: Handling Missing Values\n",
    "\n",
    "### Overview\n",
    "\n",
    "Before proceeding with analysis, it's crucial to address missing values in key columns related to quantities, amounts, and dates. These fields are central to understanding supplier performance and are often required for any kind of modeling or visualization.\n",
    "\n",
    "### Key Columns and Their Meanings\n",
    "\n",
    "- **menge**: Quantity ordered (EKPO) or movement quantity (EKBE)\n",
    "- **netpr**: Net price per unit (EKPO)\n",
    "- **netwr**: Net value of the purchase order item (EKPO)\n",
    "- **brtwr**: Gross value of the PO item (EKPO)\n",
    "- **effwr**: Effective order value (EKPO)\n",
    "- **prdat**: Requested delivery date (EKPO)\n",
    "- **aedat**: Document (change/creation) date (EKPO/EKKO)\n",
    "- **creationdate**: Date this data row was created in the system (EKPO)\n",
    "- **bpmng, lsmng, bamng**: Various quantity fields in different units (EKBE)\n",
    "- **dmbtr, wrbtr, arewr, refwr, reewr**: Various amount fields in different currencies and contexts (EKBE)\n",
    "- **budat, bldat, cpudt**: Posting/document/entry dates (EKBE)\n",
    "- **bwart**: Movement type code (EKBE); identifies the type of goods movement such as goods receipt (101), goods issue, returns, etc.\n",
    "\n",
    "\n",
    "### Missing Value Handling Strategy\n",
    "\n",
    "- **Drop rows** with missing values in critical columns that are needed for performance and financial analysis (such as quantities, prices, values, and dates).\n",
    "    - In the data, only a small number of rows are missing values in these fields, so dropping them will not impact the overall analysis.\n",
    "- **Retain NAs** in columns with a large number of missing values, especially when these fields are only relevant for specific document types or scenarios (e.g., certain quantities or amounts in EKBE). These will be left as NA for now, but may be filled with zero or further analyzed in advanced modeling if needed.\n",
    "\n",
    "### Rationale\n",
    "\n",
    "This approach ensures:\n",
    "- High data quality for analysis and modeling\n",
    "- Maximum use of available data, while ensuring that key metrics are never calculated with missing or unreliable values\n",
    "- Transparency in the data cleaning process for any future reviewer or stakeholder"
   ]
  },
  {
   "cell_type": "code",
   "execution_count": 11,
   "metadata": {
    "execution": {
     "iopub.execute_input": "2025-07-15T13:29:50.010330Z",
     "iopub.status.busy": "2025-07-15T13:29:50.009978Z",
     "iopub.status.idle": "2025-07-15T13:29:50.066026Z",
     "shell.execute_reply": "2025-07-15T13:29:50.065030Z",
     "shell.execute_reply.started": "2025-07-15T13:29:50.010300Z"
    },
    "trusted": true
   },
   "outputs": [
    {
     "data": {
      "text/plain": [
       "(0, 0, 0, 0, 0)"
      ]
     },
     "execution_count": 11,
     "metadata": {},
     "output_type": "execute_result"
    }
   ],
   "source": [
    "#check Various amount fields in different currencies and contexts (EKBE) are not negative\n",
    "ekbe[['dmbtr','wrbtr', 'arewr', 'refwr', 'reewr']]\n",
    "sum(ekbe['dmbtr']<0),sum(ekbe['wrbtr']<0), sum(ekbe['arewr']<0),sum(ekbe['refwr']<0), sum(ekbe['reewr']<0)\n"
   ]
  },
  {
   "cell_type": "code",
   "execution_count": 12,
   "metadata": {
    "execution": {
     "iopub.execute_input": "2025-07-15T13:29:50.067275Z",
     "iopub.status.busy": "2025-07-15T13:29:50.067004Z",
     "iopub.status.idle": "2025-07-15T13:29:50.165334Z",
     "shell.execute_reply": "2025-07-15T13:29:50.164422Z",
     "shell.execute_reply.started": "2025-07-15T13:29:50.067244Z"
    },
    "trusted": true
   },
   "outputs": [],
   "source": [
    "#Keep only goods‑receipt movement types 101 & 105\n",
    "ekbe = ekbe.dropna(subset=[('bwart')])\n",
    "ekbe = ekbe[ekbe['bwart'].astype(int).isin([101, 105])]\n",
    "ekbe.reset_index(drop=True, inplace=True)\n",
    "\n",
    "# EKPO: Drop rows missing critical values or delivery date\n",
    "ekpo_clean = ekpo.dropna(subset=['netpr', 'netwr', 'brtwr', 'effwr', 'prdat'])\n",
    "\n",
    "# EKBE: Drop rows missing small number of criticals (bpmng, dmbtr, wrbtr, bldat)\n",
    "ekbe_clean = ekbe.dropna(subset=['bpmng', 'dmbtr', 'wrbtr', 'bldat'])\n",
    "\n",
    "\n"
   ]
  },
  {
   "cell_type": "markdown",
   "metadata": {},
   "source": [
    "# Date Conversion and Logical Consistency Checks\n",
    "\n",
    "I converted all relevant columns to datetime.  \n",
    "Next, we ensured that planned or actual delivery/receipt dates never precede order dates.  \n",
    "Records violating this business logic were removed for robust analysis.\n"
   ]
  },
  {
   "cell_type": "code",
   "execution_count": 13,
   "metadata": {
    "execution": {
     "iopub.execute_input": "2025-07-15T13:29:50.166730Z",
     "iopub.status.busy": "2025-07-15T13:29:50.166404Z",
     "iopub.status.idle": "2025-07-15T13:29:50.280600Z",
     "shell.execute_reply": "2025-07-15T13:29:50.279422Z",
     "shell.execute_reply.started": "2025-07-15T13:29:50.166701Z"
    },
    "trusted": true
   },
   "outputs": [
    {
     "name": "stdout",
     "output_type": "stream",
     "text": [
      "Converted aedat to datetime.\n",
      "Converted prdat to datetime.\n",
      "Converted creationdate to datetime.\n",
      "Converted aedat to datetime.\n",
      "Converted bedat to datetime.\n",
      "Converted budat to datetime.\n",
      "Converted cpudt to datetime.\n",
      "Converted bldat to datetime.\n"
     ]
    }
   ],
   "source": [
    "# Helper function to safely convert to datetime\n",
    "def to_datetime_safe(df, col):\n",
    "    if col in df.columns:\n",
    "        df[col] = pd.to_datetime(df[col], errors='coerce')\n",
    "        print(f\"Converted {col} to datetime.\")\n",
    "\n",
    "# List of date columns per DataFrame\n",
    "ekpo_dates = ['aedat', 'prdat', 'creationdate']\n",
    "ekko_dates = ['aedat', 'bedat']\n",
    "ekbe_dates = ['budat', 'cpudt', 'bldat']\n",
    "\n",
    "for col in ekpo_dates:\n",
    "    to_datetime_safe(ekpo, col)\n",
    "for col in ekko_dates:\n",
    "    to_datetime_safe(ekko, col)\n",
    "for col in ekbe_dates:\n",
    "    to_datetime_safe(ekbe, col)\n"
   ]
  },
  {
   "cell_type": "code",
   "execution_count": 14,
   "metadata": {
    "execution": {
     "iopub.execute_input": "2025-07-15T13:29:50.282027Z",
     "iopub.status.busy": "2025-07-15T13:29:50.281766Z",
     "iopub.status.idle": "2025-07-15T13:29:50.780981Z",
     "shell.execute_reply": "2025-07-15T13:29:50.779785Z",
     "shell.execute_reply.started": "2025-07-15T13:29:50.282005Z"
    },
    "trusted": true
   },
   "outputs": [
    {
     "name": "stdout",
     "output_type": "stream",
     "text": [
      "Found 194 records where delivery date < order date.\n"
     ]
    }
   ],
   "source": [
    "# Merge EKPO (delivery date) with EKKO (order date) using PO number (ebeln)\n",
    "if 'prdat' in ekpo.columns and 'bedat' in ekko.columns:\n",
    "    ekpo_ekko_dates = ekpo.merge(ekko, on='ebeln', how='inner')\n",
    "    # Logical test\n",
    "    inconsistent = ekpo_ekko_dates[ekpo_ekko_dates['prdat'] < ekpo_ekko_dates['bedat']]\n",
    "    print(f\"Found {len(inconsistent)} records where delivery date < order date.\")\n",
    "    # filter out the inconsist values:\n",
    "    ekpo_ekko_dates = ekpo_ekko_dates[ekpo_ekko_dates['prdat'] >= ekpo_ekko_dates['bedat']]\n"
   ]
  },
  {
   "cell_type": "code",
   "execution_count": 15,
   "metadata": {
    "execution": {
     "iopub.execute_input": "2025-07-15T13:29:50.782332Z",
     "iopub.status.busy": "2025-07-15T13:29:50.781978Z",
     "iopub.status.idle": "2025-07-15T13:29:50.911301Z",
     "shell.execute_reply": "2025-07-15T13:29:50.910456Z",
     "shell.execute_reply.started": "2025-07-15T13:29:50.782298Z"
    },
    "trusted": true
   },
   "outputs": [
    {
     "name": "stdout",
     "output_type": "stream",
     "text": [
      "Found 40 records where actual receipt < order date.\n"
     ]
    }
   ],
   "source": [
    "# Merge actual receipt date (budat, EKBE) with order date (bedat, EKKO)\n",
    "if 'budat' in ekbe.columns and 'bedat' in ekko.columns:\n",
    "    ekbe_ekko_dates = ekbe.merge(ekko, on='ebeln', how='inner')\n",
    "    inconsistent2 = ekbe_ekko_dates[ekbe_ekko_dates['budat'] < ekbe_ekko_dates['bedat']]\n",
    "    print(f\"Found {len(inconsistent2)} records where actual receipt < order date.\")\n",
    "    # filter out the inconsist values:\n",
    "    ekbe_ekko_dates = ekbe_ekko_dates[ekbe_ekko_dates['budat'] >= ekbe_ekko_dates['bedat']]\n"
   ]
  },
  {
   "cell_type": "code",
   "execution_count": 16,
   "metadata": {
    "execution": {
     "iopub.execute_input": "2025-07-15T13:29:50.913174Z",
     "iopub.status.busy": "2025-07-15T13:29:50.912770Z",
     "iopub.status.idle": "2025-07-15T13:29:51.805483Z",
     "shell.execute_reply": "2025-07-15T13:29:51.804575Z",
     "shell.execute_reply.started": "2025-07-15T13:29:50.913061Z"
    },
    "trusted": true
   },
   "outputs": [],
   "source": [
    "# After merging, drop duplicate columns\n",
    "def deduplicate_cols(df):\n",
    "    # Find all .x/.y duplicates\n",
    "    dup_cols = set([col[:-2] for col in df.columns if col.endswith('_x')]) & \\\n",
    "               set([col[:-2] for col in df.columns if col.endswith('_y')])\n",
    "    for base_col in dup_cols:\n",
    "        # Keep .x by default, or .y if .x is all null\n",
    "        if df[base_col + '_x'].notnull().sum() >= df[base_col + '_y'].notnull().sum():\n",
    "            df[base_col] = df[base_col + '_x']\n",
    "        else:\n",
    "            df[base_col] = df[base_col + '_y']\n",
    "        df.drop([base_col + '_x', base_col + '_y'], axis=1, inplace=True)\n",
    "    return df\n",
    "\n",
    "ekpo_ekko_dates = deduplicate_cols(ekpo_ekko_dates)\n",
    "ekbe_ekko_dates = deduplicate_cols(ekbe_ekko_dates)"
   ]
  },
  {
   "cell_type": "code",
   "execution_count": 17,
   "metadata": {
    "execution": {
     "iopub.execute_input": "2025-07-15T13:29:51.806504Z",
     "iopub.status.busy": "2025-07-15T13:29:51.806269Z",
     "iopub.status.idle": "2025-07-15T13:29:51.812603Z",
     "shell.execute_reply": "2025-07-15T13:29:51.811701Z",
     "shell.execute_reply.started": "2025-07-15T13:29:51.806486Z"
    },
    "trusted": true
   },
   "outputs": [
    {
     "data": {
      "text/plain": [
       "(143729, 67298)"
      ]
     },
     "execution_count": 17,
     "metadata": {},
     "output_type": "execute_result"
    }
   ],
   "source": [
    "len(ekpo_ekko_dates), len(ekbe_ekko_dates)"
   ]
  },
  {
   "cell_type": "markdown",
   "metadata": {},
   "source": [
    "# MERGE TO A MODELING TABLE\n"
   ]
  },
  {
   "cell_type": "code",
   "execution_count": 18,
   "metadata": {
    "execution": {
     "iopub.execute_input": "2025-07-15T13:29:51.813981Z",
     "iopub.status.busy": "2025-07-15T13:29:51.813607Z",
     "iopub.status.idle": "2025-07-15T13:29:56.379098Z",
     "shell.execute_reply": "2025-07-15T13:29:56.378160Z",
     "shell.execute_reply.started": "2025-07-15T13:29:51.813958Z"
    },
    "trusted": true
   },
   "outputs": [
    {
     "data": {
      "text/plain": [
       "153342"
      ]
     },
     "execution_count": 18,
     "metadata": {},
     "output_type": "execute_result"
    }
   ],
   "source": [
    "# Merge prdat (planned delivery) from ekpo/ekpo_ekko_dates with budat (actual) from ekbe/ekbe_ekko_dates\n",
    "# Merge ALL columns from both DataFrames on ['ebeln', 'ebelp']\n",
    "merged = ekpo_ekko_dates.merge(\n",
    "    ekbe_ekko_dates, on=['ebeln', 'ebelp'], how='inner'\n",
    ")\n",
    "merged = deduplicate_cols(merged)\n",
    "\n",
    "merged['prdat'] = pd.to_datetime(merged['prdat'], errors='coerce')\n",
    "merged['budat'] = pd.to_datetime(merged['budat'], errors='coerce')\n",
    "merged['delivery_delay'] = (merged['budat'] - merged['prdat']).dt.days\n",
    "\n",
    "# Clean up unrealistic delays\n",
    "# Delivery Delay Outlier Removal\n",
    "#To ensure meaningful analysis of delivery performance, we filter out records where the delivery delay is less than -60 days \n",
    "# (i.e., delivered extremely early) or more than 180 days late, as these are likely to be data entry errors or highly unusual cases.\n",
    "\n",
    "filtered = merged[(merged['delivery_delay'] >= -60) & (merged['delivery_delay'] <= 180)]\n",
    "filtered = deduplicate_cols(filtered)\n",
    "len(filtered)"
   ]
  },
  {
   "cell_type": "code",
   "execution_count": 19,
   "metadata": {
    "execution": {
     "iopub.execute_input": "2025-07-15T13:29:56.380525Z",
     "iopub.status.busy": "2025-07-15T13:29:56.380141Z",
     "iopub.status.idle": "2025-07-15T13:29:56.389501Z",
     "shell.execute_reply": "2025-07-15T13:29:56.388300Z",
     "shell.execute_reply.started": "2025-07-15T13:29:56.380494Z"
    },
    "trusted": true
   },
   "outputs": [
    {
     "name": "stdout",
     "output_type": "stream",
     "text": [
      "On‑time rate: 0.29\n"
     ]
    }
   ],
   "source": [
    "# the tolerable delay I took is 5 days\n",
    "filtered[\"on_time_flag\"] = (filtered[\"delivery_delay\"] <= 14).astype(int)\n",
    "print(\"On‑time rate:\", filtered[\"on_time_flag\"].mean().round(3))\n"
   ]
  },
  {
   "cell_type": "markdown",
   "metadata": {},
   "source": [
    "## Outlier Assessment\n",
    "\n",
    "Although several business-critical columns show extreme outliers in their distributions, a review of these records suggests they are plausible (e.g., unusually large but realistic orders or deliveries). For this reason, I chose to retain these values in the dataset to preserve the integrity of real business events.\n",
    "\n",
    "If business logic or domain knowledge indicates that these outliers are erroneous, the the data should be updated accordingly.\n"
   ]
  },
  {
   "cell_type": "markdown",
   "metadata": {},
   "source": [
    "## Optional business context features\n"
   ]
  },
  {
   "cell_type": "code",
   "execution_count": 20,
   "metadata": {
    "execution": {
     "iopub.execute_input": "2025-07-15T13:29:56.390678Z",
     "iopub.status.busy": "2025-07-15T13:29:56.390361Z",
     "iopub.status.idle": "2025-07-15T13:29:57.333420Z",
     "shell.execute_reply": "2025-07-15T13:29:57.332422Z",
     "shell.execute_reply.started": "2025-07-15T13:29:56.390653Z"
    },
    "trusted": true
   },
   "outputs": [],
   "source": [
    "revenue_by_plant = filtered.groupby('werks')['netwr'].sum().reset_index()\n",
    "\n",
    "t001w = pd.read_csv(\"/kaggle/input/sap-dataset-bigquery-dataset/t001w.csv\")\n",
    "adrc = pd.read_csv(\"/kaggle/input/sap-dataset-bigquery-dataset/adrc.csv\")\n",
    "\n",
    "# Merge t001w and adrc on 'adrnr'\n",
    "plant_geo = t001w.merge(adrc, left_on='adrnr', right_on='addrnumber', how='left')\n",
    "\n",
    "# Convert key columns to string\n",
    "t001w['adrnr'] = t001w['adrnr'].astype(str)\n",
    "adrc['addrnumber'] = adrc['addrnumber'].astype(str)\n",
    "t001w['werks'] = t001w['werks'].astype(str)\n",
    "revenue_by_plant['werks'] = revenue_by_plant['werks'].astype(str)\n",
    "\n",
    "# Merge plant master data with address data\n",
    "plant_geo = t001w.merge(adrc, left_on='adrnr', right_on='addrnumber', how='left')\n",
    "\n",
    "# Merge plant revenue with plant geo info\n",
    "plant_info = revenue_by_plant.merge(plant_geo, on='werks', how='left')\n",
    "\n",
    "plant_info=plant_info.dropna(axis=1,how='all')\n",
    "#plant_info.columns"
   ]
  },
  {
   "cell_type": "markdown",
   "metadata": {},
   "source": [
    "# 📊 Supplier Performance: Exploratory Data Analysis\n",
    "\n",
    "In this section, I explore key insights about suppliers and purchasing activities using SAP procurement data. We'll analyze purchase order quantities, amounts, delivery trends, and vendor performance with rich visualizations.\n"
   ]
  },
  {
   "cell_type": "code",
   "execution_count": 21,
   "metadata": {
    "execution": {
     "iopub.execute_input": "2025-07-15T13:29:57.334811Z",
     "iopub.status.busy": "2025-07-15T13:29:57.334511Z",
     "iopub.status.idle": "2025-07-15T13:29:58.642787Z",
     "shell.execute_reply": "2025-07-15T13:29:58.641569Z",
     "shell.execute_reply.started": "2025-07-15T13:29:57.334785Z"
    },
    "trusted": true
   },
   "outputs": [
    {
     "data": {
      "image/png": "[encoded data removed]",
      "text/plain": [
       "<Figure size 1000x500 with 1 Axes>"
      ]
     },
     "metadata": {},
     "output_type": "display_data"
    },
    {
     "name": "stdout",
     "output_type": "stream",
     "text": [
      "Filtered Delivery Delay Statistics:\n",
      "count    153342.000000\n",
      "mean         26.699860\n",
      "std          19.106743\n",
      "min         -50.000000\n",
      "25%          11.000000\n",
      "50%          23.000000\n",
      "75%          36.000000\n",
      "max         149.000000\n",
      "Name: delivery_delay, dtype: float64\n"
     ]
    }
   ],
   "source": [
    "plt.figure(figsize=(10, 5))\n",
    "sns.histplot(filtered['delivery_delay'], bins=40, kde=True, palette='pastel')\n",
    "plt.title(\"Delivery Delay (days): Actual Receipt vs. Planned Date (Filtered)\")\n",
    "plt.xlabel(\"Delay (days)\")\n",
    "plt.ylabel(\"Number of PO Items\")\n",
    "plt.tight_layout()\n",
    "plt.show()\n",
    "\n",
    "print(\"Filtered Delivery Delay Statistics:\")\n",
    "print(filtered['delivery_delay'].describe())\n"
   ]
  },
  {
   "cell_type": "code",
   "execution_count": 22,
   "metadata": {
    "execution": {
     "iopub.execute_input": "2025-07-15T13:29:58.644107Z",
     "iopub.status.busy": "2025-07-15T13:29:58.643771Z",
     "iopub.status.idle": "2025-07-15T13:29:59.903761Z",
     "shell.execute_reply": "2025-07-15T13:29:59.902749Z",
     "shell.execute_reply.started": "2025-07-15T13:29:58.644079Z"
    },
    "trusted": true
   },
   "outputs": [
    {
     "data": {
      "image/png": "[encoded data removed]",
      "text/plain": [
       "<Figure size 1000x500 with 1 Axes>"
      ]
     },
     "metadata": {},
     "output_type": "display_data"
    }
   ],
   "source": [
    "plt.figure(figsize=(10, 5))\n",
    "sns.histplot(filtered['menge'], bins=99, kde=True)\n",
    "plt.title(\"Distribution of Ordered Quantities (menge) in PO Items\")\n",
    "plt.xlabel(\"Ordered Quantity\")\n",
    "plt.ylabel(\"Count\")\n",
    "plt.tight_layout()\n",
    "plt.show()\n"
   ]
  },
  {
   "cell_type": "code",
   "execution_count": 23,
   "metadata": {
    "execution": {
     "iopub.execute_input": "2025-07-15T13:29:59.905054Z",
     "iopub.status.busy": "2025-07-15T13:29:59.904719Z",
     "iopub.status.idle": "2025-07-15T13:30:00.332321Z",
     "shell.execute_reply": "2025-07-15T13:30:00.331186Z",
     "shell.execute_reply.started": "2025-07-15T13:29:59.905028Z"
    },
    "trusted": true
   },
   "outputs": [
    {
     "data": {
      "image/png": "[encoded data removed]",
      "text/plain": [
       "<Figure size 1200x500 with 1 Axes>"
      ]
     },
     "metadata": {},
     "output_type": "display_data"
    }
   ],
   "source": [
    "top_vendors = filtered['lifnr'].value_counts().head(15)\n",
    "\n",
    "\n",
    "plt.figure(figsize=(12, 5))\n",
    "sns.barplot(x=top_vendors.index, y=top_vendors.values, palette='pastel')\n",
    "plt.title(\"Top 15 Vendors by Number of Purchase Orders\")\n",
    "plt.xlabel(\"Vendor ID\")\n",
    "plt.ylabel(\"Number of Purchase Orders\")\n",
    "plt.xticks(rotation=45)\n",
    "plt.tight_layout()\n",
    "plt.show()\n"
   ]
  },
  {
   "cell_type": "code",
   "execution_count": 24,
   "metadata": {
    "execution": {
     "iopub.execute_input": "2025-07-15T13:30:00.333550Z",
     "iopub.status.busy": "2025-07-15T13:30:00.333313Z",
     "iopub.status.idle": "2025-07-15T13:30:00.612510Z",
     "shell.execute_reply": "2025-07-15T13:30:00.611638Z",
     "shell.execute_reply.started": "2025-07-15T13:30:00.333531Z"
    },
    "trusted": true
   },
   "outputs": [
    {
     "data": {
      "image/png": "[encoded data removed]",
      "text/plain": [
       "<Figure size 1000x500 with 1 Axes>"
      ]
     },
     "metadata": {},
     "output_type": "display_data"
    }
   ],
   "source": [
    "avg_qty_plant = filtered.groupby('werks')['menge'].mean().sort_values(ascending=False).head(10)\n",
    "plt.figure(figsize=(10,5))\n",
    "sns.barplot(x=avg_qty_plant.index, y=avg_qty_plant.values, palette='pastel')\n",
    "plt.title(\"Average Quantity Ordered by Plant (Top 10)\")\n",
    "plt.xlabel(\"Plant\")\n",
    "plt.ylabel(\"Average Ordered Quantity\")\n",
    "plt.tight_layout()\n",
    "plt.show()\n"
   ]
  },
  {
   "cell_type": "code",
   "execution_count": 25,
   "metadata": {
    "execution": {
     "iopub.execute_input": "2025-07-15T13:30:00.613764Z",
     "iopub.status.busy": "2025-07-15T13:30:00.613459Z",
     "iopub.status.idle": "2025-07-15T13:30:03.218867Z",
     "shell.execute_reply": "2025-07-15T13:30:03.217609Z",
     "shell.execute_reply.started": "2025-07-15T13:30:00.613730Z"
    },
    "trusted": true
   },
   "outputs": [
    {
     "data": {
      "text/html": [
       "<html>\n",
       "<head><meta charset=\"utf-8\" /></head>\n",
       "<body>\n",
       "    <div>            <script src=\"https://cdnjs.cloudflare.com/ajax/libs/mathjax/2.7.5/MathJax.js?config=TeX-AMS-MML_SVG\"></script><script type=\"text/javascript\">if (window.MathJax && window.MathJax.Hub && window.MathJax.Hub.Config) {window.MathJax.Hub.Config({SVG: {font: \"STIX-Web\"}});}</script>                <script type=\"text/javascript\">window.PlotlyConfig = {MathJaxConfig: 'local'};</script>\n",
       "        <script charset=\"utf-8\" src=\"https://cdn.plot.ly/plotly-2.35.2.min.js\"></script>                <div id=\"bf4c5ea1-ece8-499a-9858-d43d739826bb\" class=\"plotly-graph-div\" style=\"height:525px; width:100%;\"></div>            <script type=\"text/javascript\">                                    window.PLOTLYENV=window.PLOTLYENV || {};                                    if (document.getElementById(\"bf4c5ea1-ece8-499a-9858-d43d739826bb\")) {                    Plotly.newPlot(                        \"bf4c5ea1-ece8-499a-9858-d43d739826bb\",                        [{\"coloraxis\":\"coloraxis\",\"geo\":\"geo\",\"hovertemplate\":\"iso3=%{location}\\u003cbr\\u003enetwr=%{z}\\u003cextra\\u003e\\u003c\\u002fextra\\u003e\",\"locationmode\":\"ISO-3\",\"locations\":[\"CAN\",\"DEU\",\"JPN\",\"NLD\",\"USA\"],\"name\":\"\",\"z\":[18000.0,27300.0,54.0,4154783685436.0,4305617788813.32],\"type\":\"choropleth\"}],                        {\"template\":{\"data\":{\"histogram2dcontour\":[{\"type\":\"histogram2dcontour\",\"colorbar\":{\"outlinewidth\":0,\"ticks\":\"\"},\"colorscale\":[[0.0,\"#0d0887\"],[0.1111111111111111,\"#46039f\"],[0.2222222222222222,\"#7201a8\"],[0.3333333333333333,\"#9c179e\"],[0.4444444444444444,\"#bd3786\"],[0.5555555555555556,\"#d8576b\"],[0.6666666666666666,\"#ed7953\"],[0.7777777777777778,\"#fb9f3a\"],[0.8888888888888888,\"#fdca26\"],[1.0,\"#f0f921\"]]}],\"choropleth\":[{\"type\":\"choropleth\",\"colorbar\":{\"outlinewidth\":0,\"ticks\":\"\"}}],\"histogram2d\":[{\"type\":\"histogram2d\",\"colorbar\":{\"outlinewidth\":0,\"ticks\":\"\"},\"colorscale\":[[0.0,\"#0d0887\"],[0.1111111111111111,\"#46039f\"],[0.2222222222222222,\"#7201a8\"],[0.3333333333333333,\"#9c179e\"],[0.4444444444444444,\"#bd3786\"],[0.5555555555555556,\"#d8576b\"],[0.6666666666666666,\"#ed7953\"],[0.7777777777777778,\"#fb9f3a\"],[0.8888888888888888,\"#fdca26\"],[1.0,\"#f0f921\"]]}],\"heatmap\":[{\"type\":\"heatmap\",\"colorbar\":{\"outlinewidth\":0,\"ticks\":\"\"},\"colorscale\":[[0.0,\"#0d0887\"],[0.1111111111111111,\"#46039f\"],[0.2222222222222222,\"#7201a8\"],[0.3333333333333333,\"#9c179e\"],[0.4444444444444444,\"#bd3786\"],[0.5555555555555556,\"#d8576b\"],[0.6666666666666666,\"#ed7953\"],[0.7777777777777778,\"#fb9f3a\"],[0.8888888888888888,\"#fdca26\"],[1.0,\"#f0f921\"]]}],\"heatmapgl\":[{\"type\":\"heatmapgl\",\"colorbar\":{\"outlinewidth\":0,\"ticks\":\"\"},\"colorscale\":[[0.0,\"#0d0887\"],[0.1111111111111111,\"#46039f\"],[0.2222222222222222,\"#7201a8\"],[0.3333333333333333,\"#9c179e\"],[0.4444444444444444,\"#bd3786\"],[0.5555555555555556,\"#d8576b\"],[0.6666666666666666,\"#ed7953\"],[0.7777777777777778,\"#fb9f3a\"],[0.8888888888888888,\"#fdca26\"],[1.0,\"#f0f921\"]]}],\"contourcarpet\":[{\"type\":\"contourcarpet\",\"colorbar\":{\"outlinewidth\":0,\"ticks\":\"\"}}],\"contour\":[{\"type\":\"contour\",\"colorbar\":{\"outlinewidth\":0,\"ticks\":\"\"},\"colorscale\":[[0.0,\"#0d0887\"],[0.1111111111111111,\"#46039f\"],[0.2222222222222222,\"#7201a8\"],[0.3333333333333333,\"#9c179e\"],[0.4444444444444444,\"#bd3786\"],[0.5555555555555556,\"#d8576b\"],[0.6666666666666666,\"#ed7953\"],[0.7777777777777778,\"#fb9f3a\"],[0.8888888888888888,\"#fdca26\"],[1.0,\"#f0f921\"]]}],\"surface\":[{\"type\":\"surface\",\"colorbar\":{\"outlinewidth\":0,\"ticks\":\"\"},\"colorscale\":[[0.0,\"#0d0887\"],[0.1111111111111111,\"#46039f\"],[0.2222222222222222,\"#7201a8\"],[0.3333333333333333,\"#9c179e\"],[0.4444444444444444,\"#bd3786\"],[0.5555555555555556,\"#d8576b\"],[0.6666666666666666,\"#ed7953\"],[0.7777777777777778,\"#fb9f3a\"],[0.8888888888888888,\"#fdca26\"],[1.0,\"#f0f921\"]]}],\"mesh3d\":[{\"type\":\"mesh3d\",\"colorbar\":{\"outlinewidth\":0,\"ticks\":\"\"}}],\"scatter\":[{\"fillpattern\":{\"fillmode\":\"overlay\",\"size\":10,\"solidity\":0.2},\"type\":\"scatter\"}],\"parcoords\":[{\"type\":\"parcoords\",\"line\":{\"colorbar\":{\"outlinewidth\":0,\"ticks\":\"\"}}}],\"scatterpolargl\":[{\"type\":\"scatterpolargl\",\"marker\":{\"colorbar\":{\"outlinewidth\":0,\"ticks\":\"\"}}}],\"bar\":[{\"error_x\":{\"color\":\"#2a3f5f\"},\"error_y\":{\"color\":\"#2a3f5f\"},\"marker\":{\"line\":{\"color\":\"#E5ECF6\",\"width\":0.5},\"pattern\":{\"fillmode\":\"overlay\",\"size\":10,\"solidity\":0.2}},\"type\":\"bar\"}],\"scattergeo\":[{\"type\":\"scattergeo\",\"marker\":{\"colorbar\":{\"outlinewidth\":0,\"ticks\":\"\"}}}],\"scatterpolar\":[{\"type\":\"scatterpolar\",\"marker\":{\"colorbar\":{\"outlinewidth\":0,\"ticks\":\"\"}}}],\"histogram\":[{\"marker\":{\"pattern\":{\"fillmode\":\"overlay\",\"size\":10,\"solidity\":0.2}},\"type\":\"histogram\"}],\"scattergl\":[{\"type\":\"scattergl\",\"marker\":{\"colorbar\":{\"outlinewidth\":0,\"ticks\":\"\"}}}],\"scatter3d\":[{\"type\":\"scatter3d\",\"line\":{\"colorbar\":{\"outlinewidth\":0,\"ticks\":\"\"}},\"marker\":{\"colorbar\":{\"outlinewidth\":0,\"ticks\":\"\"}}}],\"scattermapbox\":[{\"type\":\"scattermapbox\",\"marker\":{\"colorbar\":{\"outlinewidth\":0,\"ticks\":\"\"}}}],\"scatterternary\":[{\"type\":\"scatterternary\",\"marker\":{\"colorbar\":{\"outlinewidth\":0,\"ticks\":\"\"}}}],\"scattercarpet\":[{\"type\":\"scattercarpet\",\"marker\":{\"colorbar\":{\"outlinewidth\":0,\"ticks\":\"\"}}}],\"carpet\":[{\"aaxis\":{\"endlinecolor\":\"#2a3f5f\",\"gridcolor\":\"white\",\"linecolor\":\"white\",\"minorgridcolor\":\"white\",\"startlinecolor\":\"#2a3f5f\"},\"baxis\":{\"endlinecolor\":\"#2a3f5f\",\"gridcolor\":\"white\",\"linecolor\":\"white\",\"minorgridcolor\":\"white\",\"startlinecolor\":\"#2a3f5f\"},\"type\":\"carpet\"}],\"table\":[{\"cells\":{\"fill\":{\"color\":\"#EBF0F8\"},\"line\":{\"color\":\"white\"}},\"header\":{\"fill\":{\"color\":\"#C8D4E3\"},\"line\":{\"color\":\"white\"}},\"type\":\"table\"}],\"barpolar\":[{\"marker\":{\"line\":{\"color\":\"#E5ECF6\",\"width\":0.5},\"pattern\":{\"fillmode\":\"overlay\",\"size\":10,\"solidity\":0.2}},\"type\":\"barpolar\"}],\"pie\":[{\"automargin\":true,\"type\":\"pie\"}]},\"layout\":{\"autotypenumbers\":\"strict\",\"colorway\":[\"#636efa\",\"#EF553B\",\"#00cc96\",\"#ab63fa\",\"#FFA15A\",\"#19d3f3\",\"#FF6692\",\"#B6E880\",\"#FF97FF\",\"#FECB52\"],\"font\":{\"color\":\"#2a3f5f\"},\"hovermode\":\"closest\",\"hoverlabel\":{\"align\":\"left\"},\"paper_bgcolor\":\"white\",\"plot_bgcolor\":\"#E5ECF6\",\"polar\":{\"bgcolor\":\"#E5ECF6\",\"angularaxis\":{\"gridcolor\":\"white\",\"linecolor\":\"white\",\"ticks\":\"\"},\"radialaxis\":{\"gridcolor\":\"white\",\"linecolor\":\"white\",\"ticks\":\"\"}},\"ternary\":{\"bgcolor\":\"#E5ECF6\",\"aaxis\":{\"gridcolor\":\"white\",\"linecolor\":\"white\",\"ticks\":\"\"},\"baxis\":{\"gridcolor\":\"white\",\"linecolor\":\"white\",\"ticks\":\"\"},\"caxis\":{\"gridcolor\":\"white\",\"linecolor\":\"white\",\"ticks\":\"\"}},\"coloraxis\":{\"colorbar\":{\"outlinewidth\":0,\"ticks\":\"\"}},\"colorscale\":{\"sequential\":[[0.0,\"#0d0887\"],[0.1111111111111111,\"#46039f\"],[0.2222222222222222,\"#7201a8\"],[0.3333333333333333,\"#9c179e\"],[0.4444444444444444,\"#bd3786\"],[0.5555555555555556,\"#d8576b\"],[0.6666666666666666,\"#ed7953\"],[0.7777777777777778,\"#fb9f3a\"],[0.8888888888888888,\"#fdca26\"],[1.0,\"#f0f921\"]],\"sequentialminus\":[[0.0,\"#0d0887\"],[0.1111111111111111,\"#46039f\"],[0.2222222222222222,\"#7201a8\"],[0.3333333333333333,\"#9c179e\"],[0.4444444444444444,\"#bd3786\"],[0.5555555555555556,\"#d8576b\"],[0.6666666666666666,\"#ed7953\"],[0.7777777777777778,\"#fb9f3a\"],[0.8888888888888888,\"#fdca26\"],[1.0,\"#f0f921\"]],\"diverging\":[[0,\"#8e0152\"],[0.1,\"#c51b7d\"],[0.2,\"#de77ae\"],[0.3,\"#f1b6da\"],[0.4,\"#fde0ef\"],[0.5,\"#f7f7f7\"],[0.6,\"#e6f5d0\"],[0.7,\"#b8e186\"],[0.8,\"#7fbc41\"],[0.9,\"#4d9221\"],[1,\"#276419\"]]},\"xaxis\":{\"gridcolor\":\"white\",\"linecolor\":\"white\",\"ticks\":\"\",\"title\":{\"standoff\":15},\"zerolinecolor\":\"white\",\"automargin\":true,\"zerolinewidth\":2},\"yaxis\":{\"gridcolor\":\"white\",\"linecolor\":\"white\",\"ticks\":\"\",\"title\":{\"standoff\":15},\"zerolinecolor\":\"white\",\"automargin\":true,\"zerolinewidth\":2},\"scene\":{\"xaxis\":{\"backgroundcolor\":\"#E5ECF6\",\"gridcolor\":\"white\",\"linecolor\":\"white\",\"showbackground\":true,\"ticks\":\"\",\"zerolinecolor\":\"white\",\"gridwidth\":2},\"yaxis\":{\"backgroundcolor\":\"#E5ECF6\",\"gridcolor\":\"white\",\"linecolor\":\"white\",\"showbackground\":true,\"ticks\":\"\",\"zerolinecolor\":\"white\",\"gridwidth\":2},\"zaxis\":{\"backgroundcolor\":\"#E5ECF6\",\"gridcolor\":\"white\",\"linecolor\":\"white\",\"showbackground\":true,\"ticks\":\"\",\"zerolinecolor\":\"white\",\"gridwidth\":2}},\"shapedefaults\":{\"line\":{\"color\":\"#2a3f5f\"}},\"annotationdefaults\":{\"arrowcolor\":\"#2a3f5f\",\"arrowhead\":0,\"arrowwidth\":1},\"geo\":{\"bgcolor\":\"white\",\"landcolor\":\"#E5ECF6\",\"subunitcolor\":\"white\",\"showland\":true,\"showlakes\":true,\"lakecolor\":\"white\"},\"title\":{\"x\":0.05},\"mapbox\":{\"style\":\"light\"}}},\"geo\":{\"domain\":{\"x\":[0.0,1.0],\"y\":[0.0,1.0]},\"center\":{}},\"coloraxis\":{\"colorbar\":{\"title\":{\"text\":\"netwr\"}},\"colorscale\":[[0.0,\"#0d0887\"],[0.1111111111111111,\"#46039f\"],[0.2222222222222222,\"#7201a8\"],[0.3333333333333333,\"#9c179e\"],[0.4444444444444444,\"#bd3786\"],[0.5555555555555556,\"#d8576b\"],[0.6666666666666666,\"#ed7953\"],[0.7777777777777778,\"#fb9f3a\"],[0.8888888888888888,\"#fdca26\"],[1.0,\"#f0f921\"]]},\"legend\":{\"tracegroupgap\":0},\"title\":{\"text\":\"Plant Revenue by Country\"}},                        {\"responsive\": true}                    ).then(function(){\n",
       "                            \n",
       "var gd = document.getElementById('bf4c5ea1-ece8-499a-9858-d43d739826bb');\n",
       "var x = new MutationObserver(function (mutations, observer) {{\n",
       "        var display = window.getComputedStyle(gd).display;\n",
       "        if (!display || display === 'none') {{\n",
       "            console.log([gd, 'removed!']);\n",
       "            Plotly.purge(gd);\n",
       "            observer.disconnect();\n",
       "        }}\n",
       "}});\n",
       "\n",
       "// Listen for the removal of the full notebook cells\n",
       "var notebookContainer = gd.closest('#notebook-container');\n",
       "if (notebookContainer) {{\n",
       "    x.observe(notebookContainer, {childList: true});\n",
       "}}\n",
       "\n",
       "// Listen for the clearing of the current output cell\n",
       "var outputEl = gd.closest('.output');\n",
       "if (outputEl) {{\n",
       "    x.observe(outputEl, {childList: true});\n",
       "}}\n",
       "\n",
       "                        })                };                            </script>        </div>\n",
       "</body>\n",
       "</html>"
      ]
     },
     "metadata": {},
     "output_type": "display_data"
    }
   ],
   "source": [
    "country_rev = plant_info.groupby('land1', as_index=False)['netwr'].sum()\n",
    "\n",
    "iso2_to_iso3 = {\n",
    "    'US': 'USA',\n",
    "    'NL': 'NLD',\n",
    "    'DE': 'DEU',\n",
    "    'CA': 'CAN',\n",
    "    'JP': 'JPN',\n",
    "    # Add more as needed\n",
    "}\n",
    "\n",
    "country_rev['iso3'] = country_rev['land1'].map(iso2_to_iso3)\n",
    "\n",
    "fig = px.choropleth(\n",
    "    country_rev,\n",
    "    locations='iso3',\n",
    "    locationmode='ISO-3',\n",
    "    color='netwr',\n",
    "    color_continuous_scale='Plasma',\n",
    "    title=\"Plant Revenue by Country\"\n",
    ")\n",
    "fig.show()\n"
   ]
  },
  {
   "cell_type": "markdown",
   "metadata": {},
   "source": [
    "# Dimensionality Reduction and Machine Learning Results\n"
   ]
  },
  {
   "cell_type": "markdown",
   "metadata": {},
   "source": [
    "## Feature Selection & Preprocessing\n",
    "\n",
    "First, I selected all numerical columns relevant for modeling, excluding identifiers and dates.  \n",
    "Missing values were imputed using column means, and features were standardized to zero mean and unit variance for optimal PCA and ML model performance.\n"
   ]
  },
  {
   "cell_type": "code",
   "execution_count": 26,
   "metadata": {
    "execution": {
     "iopub.execute_input": "2025-07-15T13:30:03.220649Z",
     "iopub.status.busy": "2025-07-15T13:30:03.220305Z",
     "iopub.status.idle": "2025-07-15T13:30:03.552609Z",
     "shell.execute_reply": "2025-07-15T13:30:03.551679Z",
     "shell.execute_reply.started": "2025-07-15T13:30:03.220624Z"
    },
    "trusted": true
   },
   "outputs": [
    {
     "name": "stdout",
     "output_type": "stream",
     "text": [
      "['ebeln', 'ebelp', 'txz01', 'lgort', 'matkl', 'infnr', 'meins', 'bprme', 'bpumz', 'bpumn', 'umrez', 'umren', 'netpr', 'peinh', 'netwr', 'brtwr', 'spinf', 'prsdr', 'pstyp', 'wepos', 'repos', 'webre', 'lmein', 'evers', 'prdat', 'effwr', 'plifz', 'ntgew', 'gewei', 'bstae', 'drunr', 'mtart', 'bonba', 'tzonrc', 'creationdate', 'creationtime', 'vgabe', 'gjahr', 'belnr', 'buzei', 'bewtp', 'bwart', 'budat', 'bpmng', 'dmbtr', 'wrbtr', 'arewr', 'shkzg', 'lfgja', 'lfbnr', 'lfpos', 'cpudt', 'cputm', 'reewr', 'refwr', 'etens', 'areww', 'hswae', 'bamng', 'bldat', 'arewb', 'rewrb', 'saprl', 'arewr_pop', 'vbeln_st', 'vbelp_st', 'ekorg', 'inco2', 'bukrs', 'zbd1p', 'is_deleted', 'recordstamp', 'elikz', 'stafo', 'wkurs', 'bstyp', 'statu', 'knumv', 'werks', 'menge', 'lponr', 'spras', 'aedat', 'ekgrp', 'inco1', 'operation_flag', 'bedat', 'mandt', 'zterm', 'upinc', 'ematn', 'kalsm', 'zbd2t', 'bsart', 'ernam', 'zbd1t', 'lands', 'matnr', 'mwskz', 'lifnr', 'pincr', 'waers', 'delivery_delay', 'on_time_flag']\n"
     ]
    }
   ],
   "source": [
    "print(list(filtered.columns))\n",
    "\n",
    "# List of columns to exclude from PCA\n",
    "exclude_cols = [\n",
    "    # Identifiers/reference numbers\n",
    "    'ebeln', 'ebelp', 'knumv', 'lfbnr', 'vbeln_st', 'vbelp_st', 'banfn', 'bnfpo','arewr', 'reewr', 'refwr', 'areww', 'arewb', 'rewrb', 'arewr_pop',\n",
    "    'belnr', 'buzei', 'gjahr', 'xblnr', 'lfgja', 'lfpos', 'drunr', 'stapo', 'stafo',\n",
    "    'matnr', 'ematn', 'matkl', 'mtart', 'lifnr', 'kunnr', 'adrnr', 'etens',\n",
    "    'recordstamp', 'creationdate', 'creationtime', 'cpudt', 'cputm', 'ernam','on_time_flag',\n",
    "    'operation_flag', 'saprl',\n",
    "    # Targets or engineered\n",
    "    'delivery_delay'\n",
    "]\n",
    "# Get all numeric columns\n",
    "numeric_cols = filtered.select_dtypes(include=[np.number]).columns.tolist()\n",
    "\n",
    "# Keep only numeric columns that are not in exclude_cols\n",
    "pca_cols = [col for col in numeric_cols if col not in exclude_cols]\n",
    "\n",
    "\n",
    "# Fill missing values (mean imputation for demonstration)\n",
    "pca_data = filtered[pca_cols].fillna(filtered[pca_cols].mean())\n",
    "\n",
    "# Standardize features\n",
    "scaler = StandardScaler()\n",
    "pca_data_scaled = scaler.fit_transform(pca_data)\n"
   ]
  },
  {
   "cell_type": "markdown",
   "metadata": {},
   "source": [
    "### Cumulative Explained Variance by PCA\n",
    "\n",
    "I applied PCA to the scaled features and plotted the cumulative explained variance.  \n",
    "This plot helps determine how many principal components are needed to capture most of the information in the dataset.\n"
   ]
  },
  {
   "cell_type": "code",
   "execution_count": 27,
   "metadata": {
    "execution": {
     "iopub.execute_input": "2025-07-15T13:30:03.554001Z",
     "iopub.status.busy": "2025-07-15T13:30:03.553664Z",
     "iopub.status.idle": "2025-07-15T13:30:04.188738Z",
     "shell.execute_reply": "2025-07-15T13:30:04.187666Z",
     "shell.execute_reply.started": "2025-07-15T13:30:03.553968Z"
    },
    "trusted": true
   },
   "outputs": [
    {
     "data": {
      "image/png": "[encoded data removed]",
      "text/plain": [
       "<Figure size 800x500 with 1 Axes>"
      ]
     },
     "metadata": {},
     "output_type": "display_data"
    }
   ],
   "source": [
    "# Fit PCA with all possible components\n",
    "pca_full = PCA().fit(pca_data_scaled)\n",
    "explained_var = np.cumsum(pca_full.explained_variance_ratio_)\n",
    "\n",
    "plt.figure(figsize=(8,5))\n",
    "plt.plot(range(1, len(explained_var)+1), explained_var, marker='o')\n",
    "plt.xlabel(\"Number of Principal Components\")\n",
    "plt.ylabel(\"Cumulative Explained Variance\")\n",
    "plt.title(\"PCA: Cumulative Explained Variance\")\n",
    "plt.grid(True)\n",
    "plt.tight_layout()\n",
    "plt.show()\n"
   ]
  },
  {
   "cell_type": "markdown",
   "metadata": {},
   "source": [
    "### Optimal Number of Principal Components\n",
    "\n",
    "Based on the explained variance plot, I selected the minimum number of components needed to reach at least 80% explained variance.  \n",
    "This balances dimensionality reduction with information retention.\n"
   ]
  },
  {
   "cell_type": "code",
   "execution_count": 28,
   "metadata": {
    "execution": {
     "iopub.execute_input": "2025-07-15T13:30:04.192707Z",
     "iopub.status.busy": "2025-07-15T13:30:04.192376Z",
     "iopub.status.idle": "2025-07-15T13:30:04.678672Z",
     "shell.execute_reply": "2025-07-15T13:30:04.675255Z",
     "shell.execute_reply.started": "2025-07-15T13:30:04.192684Z"
    },
    "trusted": true
   },
   "outputs": [
    {
     "name": "stdout",
     "output_type": "stream",
     "text": [
      "Number of components for >=80% variance: 5\n",
      "Explained variance by first 5 PCs: 85.11%\n"
     ]
    }
   ],
   "source": [
    "# Choose number of components (e.g., first number reaching >= 80% explained variance)\n",
    "n_components = np.argmax(explained_var >= 0.80) + 1\n",
    "print(f\"Number of components for >=80% variance: {n_components}\")\n",
    "\n",
    "pca = PCA(n_components=n_components)\n",
    "pca_result = pca.fit_transform(pca_data_scaled)\n",
    "\n",
    "print(f\"Explained variance by first {n_components} PCs: {explained_var[n_components-1]:.2%}\")\n"
   ]
  },
  {
   "cell_type": "code",
   "execution_count": 29,
   "metadata": {
    "execution": {
     "iopub.execute_input": "2025-07-15T13:30:04.680121Z",
     "iopub.status.busy": "2025-07-15T13:30:04.679462Z",
     "iopub.status.idle": "2025-07-15T13:30:04.695339Z",
     "shell.execute_reply": "2025-07-15T13:30:04.693681Z",
     "shell.execute_reply.started": "2025-07-15T13:30:04.680092Z"
    },
    "trusted": true
   },
   "outputs": [
    {
     "name": "stdout",
     "output_type": "stream",
     "text": [
      "Top features in PCA:\n",
      "effwr    0.404373\n",
      "dmbtr    0.404365\n",
      "wrbtr    0.404365\n",
      "bonba    0.404365\n",
      "netwr    0.404365\n",
      "brtwr    0.404365\n",
      "menge    0.077690\n",
      "dtype: float64\n"
     ]
    }
   ],
   "source": [
    "# Get loadings for the first PC\n",
    "pc1_loadings = pd.Series(pca.components_[0], index=pca_cols).sort_values(key=abs, ascending=False)\n",
    "print(\"Top features in PCA:\")\n",
    "print(pc1_loadings.head(7))\n"
   ]
  },
  {
   "cell_type": "markdown",
   "metadata": {},
   "source": [
    "## Principal Component Analysis: Final Interpretation\n",
    "\n",
    "After removing all identifier and reference columns, the first principal component is now dominated by business-relevant numerical features. The most influential fields include various amount and value columns (`wrbtr`, `dmbtr`, `effwr`, `netwr`, `brtwr`, `bonba`) as well as order and processed quantities (`menge`, `bpmng`). Additional contributing features such as `arewb`, `areww`, `arewr`, and `bamng` relate to financial settlements, returned items, or quantity adjustments.\n",
    "\n",
    "**Interpretation:**  \n",
    "This pattern confirms that the largest source of variance in SAP procurement data is directly related to the financial scale and volume of transactions. In other words, how much is being ordered, invoiced, or processed is the main axis along which the data varies. These insights validate the PCA approach and provide a sound foundation for subsequent machine learning models, as well as business monitoring and decision-making.\n"
   ]
  },
  {
   "cell_type": "markdown",
   "metadata": {},
   "source": [
    "### Target Variable Construction\n",
    "\n",
    "To frame a business-relevant prediction problem, I defined a binary target variable:  \n",
    "**on_time_flag** (1 = delivery delay > 14 days, 0 = on-time or early).  \n",
    "This allows classification of orders as late or not late.\n"
   ]
  },
  {
   "cell_type": "code",
   "execution_count": 30,
   "metadata": {
    "execution": {
     "iopub.execute_input": "2025-07-15T13:30:04.698697Z",
     "iopub.status.busy": "2025-07-15T13:30:04.698352Z",
     "iopub.status.idle": "2025-07-15T13:30:04.718738Z",
     "shell.execute_reply": "2025-07-15T13:30:04.717680Z",
     "shell.execute_reply.started": "2025-07-15T13:30:04.698671Z"
    },
    "trusted": true
   },
   "outputs": [],
   "source": [
    "#features = pca_cols  \n",
    "#X = filtered[features].fillna(filtered[features].mean())\n",
    "#y = filtered['on_time_flag']\n"
   ]
  },
  {
   "cell_type": "code",
   "execution_count": 31,
   "metadata": {
    "execution": {
     "iopub.execute_input": "2025-07-15T13:30:04.720679Z",
     "iopub.status.busy": "2025-07-15T13:30:04.720192Z",
     "iopub.status.idle": "2025-07-15T13:30:05.505032Z",
     "shell.execute_reply": "2025-07-15T13:30:05.504059Z",
     "shell.execute_reply.started": "2025-07-15T13:30:04.720611Z"
    },
    "trusted": true
   },
   "outputs": [
    {
     "name": "stdout",
     "output_type": "stream",
     "text": [
      "Train years: [2018, 2019, 2020, 2021]\n",
      " Test year : 2022\n",
      "Train shape (148925, 33), Test shape (4417, 33)\n"
     ]
    }
   ],
   "source": [
    "# Train/Test Split\n",
    "#X_train, X_test, y_train, y_test = train_test_split(X, y, test_size=0.25, random_state=42)\n",
    "\n",
    "# 1.  Time‑based train / test split  (year granularity)\n",
    "# Pick the date column that exists: PRDAT (planned delivery date) or BUDAT (posting date)\n",
    "date_col = 'prdat' if 'prdat' in filtered.columns else 'budat'\n",
    "\n",
    "# Ensure datetime dtype\n",
    "filtered[date_col] = pd.to_datetime(filtered[date_col], errors='coerce')\n",
    "filtered = filtered.dropna(subset=[date_col])          # drop rows without a date\n",
    "\n",
    "# Define features & target (same list you built earlier)\n",
    "features = pca_cols        # or any engineered‑feature list you prefer\n",
    "target   = 'on_time_flag'\n",
    "\n",
    "# Year‑based split: last complete year → test, all earlier years → train\n",
    "latest_year = filtered[date_col].dt.year.max()\n",
    "train = filtered[filtered[date_col].dt.year <  latest_year].copy()\n",
    "test  = filtered[filtered[date_col].dt.year == latest_year].copy()\n",
    "\n",
    "X_train = train[features].fillna(train[features].mean())\n",
    "y_train = train[target]\n",
    "X_test  =  test[features].fillna(train[features].mean())   # use train means for imputation\n",
    "y_test  =  test[target]\n",
    "\n",
    "print(f\"Train years: {sorted(train[date_col].dt.year.unique())}\")\n",
    "print(f\" Test year : {latest_year}\")\n",
    "print(f\"Train shape {X_train.shape}, Test shape {X_test.shape}\")\n"
   ]
  },
  {
   "cell_type": "code",
   "execution_count": 32,
   "metadata": {
    "execution": {
     "iopub.execute_input": "2025-07-15T13:30:05.506007Z",
     "iopub.status.busy": "2025-07-15T13:30:05.505768Z",
     "iopub.status.idle": "2025-07-15T13:30:05.512237Z",
     "shell.execute_reply": "2025-07-15T13:30:05.510933Z",
     "shell.execute_reply.started": "2025-07-15T13:30:05.505987Z"
    },
    "trusted": true
   },
   "outputs": [],
   "source": [
    "# Utility for cleaner output \n",
    "def evaluate(model_name, y_true, y_pred):\n",
    "    print(f\"\\n=== {model_name} ===\")\n",
    "    print(\"Accuracy :\", accuracy_score(y_true, y_pred).round(4))\n",
    "    print(\"F1‑score :\", f1_score(y_true, y_pred).round(4))\n",
    "    print(classification_report(y_true, y_pred, digits=4))"
   ]
  },
  {
   "cell_type": "markdown",
   "metadata": {},
   "source": [
    "### Classification Models: KNN, Random Forest, and Logistic Regression\n",
    "\n",
    "To predict the likelihood of late deliveries, I trained and evaluated three different classification models:\n",
    "\n",
    "- **K-Nearest Neighbors (KNN):**  \n",
    "  A simple, instance-based algorithm that classifies samples based on the majority class of their nearest neighbors.\n",
    "\n",
    "- **Random Forest:**  \n",
    "  An ensemble tree-based method that provides strong performance on tabular data and allows for interpretation of feature importances.\n",
    "\n",
    "- **Logistic Regression:**  \n",
    "  A linear baseline model useful for assessing how much of the signal can be captured with a simple approach.\n",
    "\n",
    "Each model was trained on the same features and evaluated on a held-out test set.  \n",
    "Results are compared using accuracy, precision, recall, and F1-score to assess their effectiveness in predicting late deliveries.\n"
   ]
  },
  {
   "cell_type": "code",
   "execution_count": 33,
   "metadata": {
    "execution": {
     "iopub.execute_input": "2025-07-15T13:30:05.514057Z",
     "iopub.status.busy": "2025-07-15T13:30:05.513733Z",
     "iopub.status.idle": "2025-07-15T13:30:08.110715Z",
     "shell.execute_reply": "2025-07-15T13:30:08.109764Z",
     "shell.execute_reply.started": "2025-07-15T13:30:05.514035Z"
    },
    "trusted": true
   },
   "outputs": [
    {
     "name": "stdout",
     "output_type": "stream",
     "text": [
      "\n",
      "=== K‑NN ===\n",
      "Accuracy : 0.6817\n",
      "F1‑score : 0.5\n",
      "              precision    recall  f1-score   support\n",
      "\n",
      "           0     0.8036    0.7327    0.7665      3150\n",
      "           1     0.4550    0.5549    0.5000      1267\n",
      "\n",
      "    accuracy                         0.6817      4417\n",
      "   macro avg     0.6293    0.6438    0.6333      4417\n",
      "weighted avg     0.7036    0.6817    0.6901      4417\n",
      "\n"
     ]
    }
   ],
   "source": [
    "knn = KNeighborsClassifier(n_neighbors=5)\n",
    "knn.fit(X_train, y_train)\n",
    "y_pred_knn = knn.predict(X_test)\n",
    "evaluate(\"K‑NN\", y_test, y_pred_knn)\n"
   ]
  },
  {
   "cell_type": "code",
   "execution_count": 34,
   "metadata": {
    "execution": {
     "iopub.execute_input": "2025-07-15T13:30:08.112388Z",
     "iopub.status.busy": "2025-07-15T13:30:08.111719Z",
     "iopub.status.idle": "2025-07-15T13:30:33.129529Z",
     "shell.execute_reply": "2025-07-15T13:30:33.128336Z",
     "shell.execute_reply.started": "2025-07-15T13:30:08.112355Z"
    },
    "trusted": true
   },
   "outputs": [
    {
     "name": "stdout",
     "output_type": "stream",
     "text": [
      "\n",
      "=== Random Forest ===\n",
      "Accuracy : 0.7777\n",
      "F1‑score : 0.6416\n",
      "              precision    recall  f1-score   support\n",
      "\n",
      "           0     0.8682    0.8114    0.8389      3150\n",
      "           1     0.5967    0.6938    0.6416      1267\n",
      "\n",
      "    accuracy                         0.7777      4417\n",
      "   macro avg     0.7325    0.7526    0.7402      4417\n",
      "weighted avg     0.7903    0.7777    0.7823      4417\n",
      "\n"
     ]
    }
   ],
   "source": [
    "rf = RandomForestClassifier(n_estimators=100, random_state=42, class_weight='balanced')\n",
    "rf.fit(X_train, y_train)\n",
    "y_pred_rf = rf.predict(X_test)\n",
    "evaluate(\"Random Forest\", y_test, y_pred_rf)\n"
   ]
  },
  {
   "cell_type": "code",
   "execution_count": 35,
   "metadata": {
    "execution": {
     "iopub.execute_input": "2025-07-15T13:30:33.130835Z",
     "iopub.status.busy": "2025-07-15T13:30:33.130512Z",
     "iopub.status.idle": "2025-07-15T13:30:33.769193Z",
     "shell.execute_reply": "2025-07-15T13:30:33.768319Z",
     "shell.execute_reply.started": "2025-07-15T13:30:33.130791Z"
    },
    "trusted": true
   },
   "outputs": [
    {
     "name": "stdout",
     "output_type": "stream",
     "text": [
      "\n",
      "=== Logistic Regression ===\n",
      "Accuracy : 0.4046\n",
      "F1‑score : 0.4361\n",
      "              precision    recall  f1-score   support\n",
      "\n",
      "           0     0.7549    0.2444    0.3693      3150\n",
      "           1     0.2994    0.8027    0.4361      1267\n",
      "\n",
      "    accuracy                         0.4046      4417\n",
      "   macro avg     0.5271    0.5236    0.4027      4417\n",
      "weighted avg     0.6242    0.4046    0.3885      4417\n",
      "\n"
     ]
    }
   ],
   "source": [
    "lr = LogisticRegression(max_iter=1000, class_weight='balanced')\n",
    "lr.fit(X_train, y_train)\n",
    "y_pred_lr = lr.predict(X_test)\n",
    "evaluate(\"Logistic Regression\", y_test, y_pred_lr)\n"
   ]
  },
  {
   "cell_type": "code",
   "execution_count": 36,
   "metadata": {
    "execution": {
     "iopub.execute_input": "2025-07-15T13:30:33.772429Z",
     "iopub.status.busy": "2025-07-15T13:30:33.770102Z",
     "iopub.status.idle": "2025-07-15T13:30:34.173481Z",
     "shell.execute_reply": "2025-07-15T13:30:34.172444Z",
     "shell.execute_reply.started": "2025-07-15T13:30:33.772394Z"
    },
    "trusted": true
   },
   "outputs": [
    {
     "data": {
      "image/png": "[encoded data removed]",
      "text/plain": [
       "<Figure size 800x500 with 1 Axes>"
      ]
     },
     "metadata": {},
     "output_type": "display_data"
    }
   ],
   "source": [
    "feat_imp = (\n",
    "    pd.Series(rf.feature_importances_, index=features)\n",
    "      .sort_values(ascending=False)\n",
    "      .head(12)\n",
    ")\n",
    "\n",
    "plt.figure(figsize=(8,5))\n",
    "sns.barplot(x=feat_imp.values, y=feat_imp.index)\n",
    "plt.title(\"Top 12 Feature Importances – Random Forest\")\n",
    "plt.xlabel(\"Mean Decrease in Impurity\")\n",
    "plt.tight_layout()\n",
    "plt.show()"
   ]
  },
  {
   "cell_type": "markdown",
   "metadata": {},
   "source": [
    "## Conclusion and Interpretation\n",
    "\n",
    "This analysis demonstrates how combining dimensionality reduction and supervised machine learning can yield actionable insights from SAP procurement data, especially when using a time-aware (yearly) train/test split that mimics real business deployment.\n",
    "\n",
    "---\n",
    "\n",
    "### **Key Findings**\n",
    "\n",
    "- **Feature Importance:**  \n",
    "  The most predictive features for delivery outcomes are fundamental business variables, including order quantity (`menge`), gross weight (`brgew`), processed quantity (`bpmng`), and value fields. These align well with procurement logic, where order size, weight, and value drive operational complexity and risk.\n",
    "\n",
    "- **Model Performance:**  \n",
    "    - **Random Forest:**  \n",
    "      Achieved the highest performance with an accuracy of **0.77** and F1-score of **0.63** for late deliveries. This model balances recall (0.69) and precision (0.58), correctly flagging about 7 in 10 late purchase orders while keeping false alarms at a manageable level.\n",
    "    - **K-Nearest Neighbors (KNN):**  \n",
    "      Showed lower performance (accuracy **0.68**, F1 **0.50**), with less reliable identification of late deliveries compared to the Random Forest. This highlights the challenge of using simple, distance-based models in high-dimensional business data.\n",
    "    - **Logistic Regression:**  \n",
    "      Had the lowest accuracy (**0.40**) and struggled to distinguish late from on-time deliveries, underlining the limitations of linear models for complex, non-linear relationships present in SAP data.\n",
    "\n",
    "---\n",
    "\n",
    "### **Interpretation**\n",
    "\n",
    "- The **Random Forest** model’s top features reflect operational realities: larger, heavier, or high-value orders are more prone to delays. Plants and vendors also show meaningful effects, highlighting areas for process improvement.\n",
    "- The **KNN** model, while simpler, fails to capture as much nuance, while **Logistic Regression** misses complex non-linear interactions entirely.\n",
    "\n",
    "---\n",
    "\n",
    "### **Business Implications**\n",
    "\n",
    "- **Early Warning for Late Deliveries:**  \n",
    "  By identifying high-risk orders ahead of time, supply chain teams can focus efforts on those most likely to be late—enabling interventions such as vendor communication, expedited shipping, or order splitting.\n",
    "- **Resource Optimization:**  \n",
    "  With a model recall of ~69% for late deliveries, operations managers can better allocate resources and prioritize responses, reducing production disruptions and avoidable expedite costs.\n",
    "\n",
    "---\n",
    "\n",
    "### **Overall**\n",
    "\n",
    "This workflow is **reproducible, interpretable, and business-relevant**, supporting data-driven decision-making in procurement and supply chain operations. The results can help organizations transform complex ERP data into tangible process improvements and financial value.\n",
    "\n",
    "---\n",
    "\n",
    "*Next Steps:*\n",
    "- Tune model hyperparameters and probability thresholds to balance operational workload with alert accuracy.\n",
    "- Incorporate advanced techniques (e.g., SMOTE, cost-sensitive loss, XGBoost).\n",
    "- Extend the workflow with a regression model to predict the number of days late for each delivery.\n",
    "- Regretion prediction of the delay "
   ]
  },
  {
   "cell_type": "code",
   "execution_count": null,
   "metadata": {
    "trusted": true
   },
   "outputs": [],
   "source": []
  }
 ],
 "metadata": {
  "kaggle": {
   "accelerator": "none",
   "dataSources": [
    {
     "datasetId": 5570042,
     "sourceId": 9211653,
     "sourceType": "datasetVersion"
    }
   ],
   "dockerImageVersionId": 31089,
   "isGpuEnabled": false,
   "isInternetEnabled": false,
   "language": "python",
   "sourceType": "notebook"
  },
  "kernelspec": {
   "display_name": "Python 3",
   "language": "python",
   "name": "python3"
  },
  "language_info": {
   "codemirror_mode": {
    "name": "ipython",
    "version": 3
   },
   "file_extension": ".py",
   "mimetype": "text/x-python",
   "name": "python",
   "nbconvert_exporter": "python",
   "pygments_lexer": "ipython3",
   "version": "3.11.13"
  }
 },
 "nbformat": 4,
 "nbformat_minor": 4
}
